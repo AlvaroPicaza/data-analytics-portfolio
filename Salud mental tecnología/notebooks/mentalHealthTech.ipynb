{
 "cells": [
  {
   "cell_type": "code",
   "execution_count": 51,
   "id": "87b0dfa3-83e3-4214-bc59-7f7b2c226445",
   "metadata": {},
   "outputs": [],
   "source": [
    "import pandas as pd\n",
    "import numpy as np\n",
    "import matplotlib.pyplot as plt\n",
    "import seaborn as sns\n",
    "from datetime import datetime\n",
    "from sklearn.linear_model import LogisticRegression\n",
    "from sklearn.preprocessing import LabelEncoder"
   ]
  },
  {
   "cell_type": "code",
   "execution_count": 4,
   "id": "9368eac0-94cf-4c33-a497-a40fc1e28176",
   "metadata": {},
   "outputs": [],
   "source": [
    "survey = pd.read_csv(\"C:/Users/garci/Desktop/Data analytics/Analisis/Salud mental tecnologia/2014/survey.csv\")\n",
    "survey2016 = pd.read_csv(\"C:/Users/garci/Desktop/Data analytics/Analisis/Salud mental tecnologia/2016/mental-heath-in-tech-2016_20161114.csv\")"
   ]
  },
  {
   "cell_type": "code",
   "execution_count": 5,
   "id": "395b5ded-1e1e-4f9c-a186-f8442ffd9bf4",
   "metadata": {},
   "outputs": [
    {
     "data": {
      "text/html": [
       "<div>\n",
       "<style scoped>\n",
       "    .dataframe tbody tr th:only-of-type {\n",
       "        vertical-align: middle;\n",
       "    }\n",
       "\n",
       "    .dataframe tbody tr th {\n",
       "        vertical-align: top;\n",
       "    }\n",
       "\n",
       "    .dataframe thead th {\n",
       "        text-align: right;\n",
       "    }\n",
       "</style>\n",
       "<table border=\"1\" class=\"dataframe\">\n",
       "  <thead>\n",
       "    <tr style=\"text-align: right;\">\n",
       "      <th></th>\n",
       "      <th>Timestamp</th>\n",
       "      <th>Age</th>\n",
       "      <th>Gender</th>\n",
       "      <th>Country</th>\n",
       "      <th>state</th>\n",
       "      <th>self_employed</th>\n",
       "      <th>family_history</th>\n",
       "      <th>treatment</th>\n",
       "      <th>work_interfere</th>\n",
       "      <th>no_employees</th>\n",
       "      <th>...</th>\n",
       "      <th>leave</th>\n",
       "      <th>mental_health_consequence</th>\n",
       "      <th>phys_health_consequence</th>\n",
       "      <th>coworkers</th>\n",
       "      <th>supervisor</th>\n",
       "      <th>mental_health_interview</th>\n",
       "      <th>phys_health_interview</th>\n",
       "      <th>mental_vs_physical</th>\n",
       "      <th>obs_consequence</th>\n",
       "      <th>comments</th>\n",
       "    </tr>\n",
       "  </thead>\n",
       "  <tbody>\n",
       "    <tr>\n",
       "      <th>0</th>\n",
       "      <td>2014-08-27 11:29:31</td>\n",
       "      <td>37</td>\n",
       "      <td>Female</td>\n",
       "      <td>United States</td>\n",
       "      <td>IL</td>\n",
       "      <td>NaN</td>\n",
       "      <td>No</td>\n",
       "      <td>Yes</td>\n",
       "      <td>Often</td>\n",
       "      <td>6-25</td>\n",
       "      <td>...</td>\n",
       "      <td>Somewhat easy</td>\n",
       "      <td>No</td>\n",
       "      <td>No</td>\n",
       "      <td>Some of them</td>\n",
       "      <td>Yes</td>\n",
       "      <td>No</td>\n",
       "      <td>Maybe</td>\n",
       "      <td>Yes</td>\n",
       "      <td>No</td>\n",
       "      <td>NaN</td>\n",
       "    </tr>\n",
       "    <tr>\n",
       "      <th>1</th>\n",
       "      <td>2014-08-27 11:29:37</td>\n",
       "      <td>44</td>\n",
       "      <td>M</td>\n",
       "      <td>United States</td>\n",
       "      <td>IN</td>\n",
       "      <td>NaN</td>\n",
       "      <td>No</td>\n",
       "      <td>No</td>\n",
       "      <td>Rarely</td>\n",
       "      <td>More than 1000</td>\n",
       "      <td>...</td>\n",
       "      <td>Don't know</td>\n",
       "      <td>Maybe</td>\n",
       "      <td>No</td>\n",
       "      <td>No</td>\n",
       "      <td>No</td>\n",
       "      <td>No</td>\n",
       "      <td>No</td>\n",
       "      <td>Don't know</td>\n",
       "      <td>No</td>\n",
       "      <td>NaN</td>\n",
       "    </tr>\n",
       "    <tr>\n",
       "      <th>2</th>\n",
       "      <td>2014-08-27 11:29:44</td>\n",
       "      <td>32</td>\n",
       "      <td>Male</td>\n",
       "      <td>Canada</td>\n",
       "      <td>NaN</td>\n",
       "      <td>NaN</td>\n",
       "      <td>No</td>\n",
       "      <td>No</td>\n",
       "      <td>Rarely</td>\n",
       "      <td>6-25</td>\n",
       "      <td>...</td>\n",
       "      <td>Somewhat difficult</td>\n",
       "      <td>No</td>\n",
       "      <td>No</td>\n",
       "      <td>Yes</td>\n",
       "      <td>Yes</td>\n",
       "      <td>Yes</td>\n",
       "      <td>Yes</td>\n",
       "      <td>No</td>\n",
       "      <td>No</td>\n",
       "      <td>NaN</td>\n",
       "    </tr>\n",
       "    <tr>\n",
       "      <th>3</th>\n",
       "      <td>2014-08-27 11:29:46</td>\n",
       "      <td>31</td>\n",
       "      <td>Male</td>\n",
       "      <td>United Kingdom</td>\n",
       "      <td>NaN</td>\n",
       "      <td>NaN</td>\n",
       "      <td>Yes</td>\n",
       "      <td>Yes</td>\n",
       "      <td>Often</td>\n",
       "      <td>26-100</td>\n",
       "      <td>...</td>\n",
       "      <td>Somewhat difficult</td>\n",
       "      <td>Yes</td>\n",
       "      <td>Yes</td>\n",
       "      <td>Some of them</td>\n",
       "      <td>No</td>\n",
       "      <td>Maybe</td>\n",
       "      <td>Maybe</td>\n",
       "      <td>No</td>\n",
       "      <td>Yes</td>\n",
       "      <td>NaN</td>\n",
       "    </tr>\n",
       "    <tr>\n",
       "      <th>4</th>\n",
       "      <td>2014-08-27 11:30:22</td>\n",
       "      <td>31</td>\n",
       "      <td>Male</td>\n",
       "      <td>United States</td>\n",
       "      <td>TX</td>\n",
       "      <td>NaN</td>\n",
       "      <td>No</td>\n",
       "      <td>No</td>\n",
       "      <td>Never</td>\n",
       "      <td>100-500</td>\n",
       "      <td>...</td>\n",
       "      <td>Don't know</td>\n",
       "      <td>No</td>\n",
       "      <td>No</td>\n",
       "      <td>Some of them</td>\n",
       "      <td>Yes</td>\n",
       "      <td>Yes</td>\n",
       "      <td>Yes</td>\n",
       "      <td>Don't know</td>\n",
       "      <td>No</td>\n",
       "      <td>NaN</td>\n",
       "    </tr>\n",
       "  </tbody>\n",
       "</table>\n",
       "<p>5 rows × 27 columns</p>\n",
       "</div>"
      ],
      "text/plain": [
       "             Timestamp  Age  Gender         Country state self_employed  \\\n",
       "0  2014-08-27 11:29:31   37  Female   United States    IL           NaN   \n",
       "1  2014-08-27 11:29:37   44       M   United States    IN           NaN   \n",
       "2  2014-08-27 11:29:44   32    Male          Canada   NaN           NaN   \n",
       "3  2014-08-27 11:29:46   31    Male  United Kingdom   NaN           NaN   \n",
       "4  2014-08-27 11:30:22   31    Male   United States    TX           NaN   \n",
       "\n",
       "  family_history treatment work_interfere    no_employees  ...  \\\n",
       "0             No       Yes          Often            6-25  ...   \n",
       "1             No        No         Rarely  More than 1000  ...   \n",
       "2             No        No         Rarely            6-25  ...   \n",
       "3            Yes       Yes          Often          26-100  ...   \n",
       "4             No        No          Never         100-500  ...   \n",
       "\n",
       "                leave mental_health_consequence phys_health_consequence  \\\n",
       "0       Somewhat easy                        No                      No   \n",
       "1          Don't know                     Maybe                      No   \n",
       "2  Somewhat difficult                        No                      No   \n",
       "3  Somewhat difficult                       Yes                     Yes   \n",
       "4          Don't know                        No                      No   \n",
       "\n",
       "      coworkers supervisor mental_health_interview phys_health_interview  \\\n",
       "0  Some of them        Yes                      No                 Maybe   \n",
       "1            No         No                      No                    No   \n",
       "2           Yes        Yes                     Yes                   Yes   \n",
       "3  Some of them         No                   Maybe                 Maybe   \n",
       "4  Some of them        Yes                     Yes                   Yes   \n",
       "\n",
       "  mental_vs_physical obs_consequence comments  \n",
       "0                Yes              No      NaN  \n",
       "1         Don't know              No      NaN  \n",
       "2                 No              No      NaN  \n",
       "3                 No             Yes      NaN  \n",
       "4         Don't know              No      NaN  \n",
       "\n",
       "[5 rows x 27 columns]"
      ]
     },
     "execution_count": 5,
     "metadata": {},
     "output_type": "execute_result"
    }
   ],
   "source": [
    "survey.head()"
   ]
  },
  {
   "cell_type": "code",
   "execution_count": 6,
   "id": "c147d464-0a16-4c25-aed9-8acd566026d3",
   "metadata": {},
   "outputs": [
    {
     "name": "stdout",
     "output_type": "stream",
     "text": [
      "Index(['Timestamp', 'Age', 'Gender', 'Country', 'state', 'self_employed',\n",
      "       'family_history', 'treatment', 'work_interfere', 'no_employees',\n",
      "       'remote_work', 'tech_company', 'benefits', 'care_options',\n",
      "       'wellness_program', 'seek_help', 'anonymity', 'leave',\n",
      "       'mental_health_consequence', 'phys_health_consequence', 'coworkers',\n",
      "       'supervisor', 'mental_health_interview', 'phys_health_interview',\n",
      "       'mental_vs_physical', 'obs_consequence', 'comments'],\n",
      "      dtype='object')\n"
     ]
    }
   ],
   "source": [
    "print(survey.keys())"
   ]
  },
  {
   "cell_type": "code",
   "execution_count": 7,
   "id": "9f9f3eea-3bbb-4a71-989a-03b8345e0dc4",
   "metadata": {},
   "outputs": [
    {
     "data": {
      "text/plain": [
       "1259"
      ]
     },
     "execution_count": 7,
     "metadata": {},
     "output_type": "execute_result"
    }
   ],
   "source": [
    "len(survey)"
   ]
  },
  {
   "cell_type": "code",
   "execution_count": 8,
   "id": "1ffa8619-9a70-4f5a-94e2-fa891e1a677d",
   "metadata": {},
   "outputs": [
    {
     "data": {
      "text/plain": [
       "Timestamp                       0\n",
       "Age                             0\n",
       "Gender                          0\n",
       "Country                         0\n",
       "state                         515\n",
       "self_employed                  18\n",
       "family_history                  0\n",
       "treatment                       0\n",
       "work_interfere                264\n",
       "no_employees                    0\n",
       "remote_work                     0\n",
       "tech_company                    0\n",
       "benefits                        0\n",
       "care_options                    0\n",
       "wellness_program                0\n",
       "seek_help                       0\n",
       "anonymity                       0\n",
       "leave                           0\n",
       "mental_health_consequence       0\n",
       "phys_health_consequence         0\n",
       "coworkers                       0\n",
       "supervisor                      0\n",
       "mental_health_interview         0\n",
       "phys_health_interview           0\n",
       "mental_vs_physical              0\n",
       "obs_consequence                 0\n",
       "comments                     1095\n",
       "dtype: int64"
      ]
     },
     "execution_count": 8,
     "metadata": {},
     "output_type": "execute_result"
    }
   ],
   "source": [
    "survey.isnull().sum()"
   ]
  },
  {
   "cell_type": "code",
   "execution_count": 9,
   "id": "7937a054-aa5c-4d53-9c89-86e4bdd1f575",
   "metadata": {},
   "outputs": [],
   "source": [
    "#Limpiamos la columna de state, ya que queremos realizar el estudio a nivel global\n",
    "survey = survey.drop(columns=['state'])"
   ]
  },
  {
   "cell_type": "code",
   "execution_count": 10,
   "id": "6f80f64f-b9dd-4002-9ebd-92c4ce98536b",
   "metadata": {},
   "outputs": [],
   "source": [
    "#Limpiamos los valores NA de la columna self_employed\n",
    "survey = survey.dropna(subset=['self_employed'])"
   ]
  },
  {
   "cell_type": "code",
   "execution_count": 11,
   "id": "d6ebd975-4ac6-4d54-81d2-b46e91f85998",
   "metadata": {},
   "outputs": [
    {
     "data": {
      "text/plain": [
       "work_interfere\n",
       "Sometimes    458\n",
       "Never        207\n",
       "Rarely       170\n",
       "Often        142\n",
       "Name: count, dtype: int64"
      ]
     },
     "execution_count": 11,
     "metadata": {},
     "output_type": "execute_result"
    }
   ],
   "source": [
    "#Vemos cuantas veces aparece cada valor en work_interfere\n",
    "survey['work_interfere'].value_counts(dropna=True)"
   ]
  },
  {
   "cell_type": "code",
   "execution_count": 12,
   "id": "8e15db4a-7c7b-436b-91d2-c38b90ca8663",
   "metadata": {},
   "outputs": [
    {
     "data": {
      "text/plain": [
       "work_interfere\n",
       "Sometimes    0.468782\n",
       "Never        0.211873\n",
       "Rarely       0.174002\n",
       "Often        0.145343\n",
       "Name: proportion, dtype: float64"
      ]
     },
     "execution_count": 12,
     "metadata": {},
     "output_type": "execute_result"
    }
   ],
   "source": [
    "#Vemos el porcentaje de cada categoria\n",
    "survey['work_interfere'].value_counts(normalize=True)\n"
   ]
  },
  {
   "cell_type": "code",
   "execution_count": 13,
   "id": "41f7a045-9597-49e3-b7ba-72760dbf7db5",
   "metadata": {},
   "outputs": [],
   "source": [
    "survey = survey.dropna(subset=['work_interfere'])"
   ]
  },
  {
   "cell_type": "code",
   "execution_count": 14,
   "id": "b23eb33d-ad52-4147-96d8-94994090771a",
   "metadata": {},
   "outputs": [
    {
     "data": {
      "text/plain": [
       "Gender\n",
       "Male                                              471\n",
       "male                                              156\n",
       "Female                                            103\n",
       "M                                                  85\n",
       "female                                             51\n",
       "F                                                  31\n",
       "m                                                  23\n",
       "f                                                  13\n",
       "Make                                                4\n",
       "Male                                                3\n",
       "Cis Male                                            2\n",
       "Female (trans)                                      2\n",
       "Female                                              2\n",
       "Cis Female                                          1\n",
       "Male-ish                                            1\n",
       "Trans-female                                        1\n",
       "woman                                               1\n",
       "Nah                                                 1\n",
       "non-binary                                          1\n",
       "Mal                                                 1\n",
       "Enby                                                1\n",
       "fluid                                               1\n",
       "Genderqueer                                         1\n",
       "Androgyne                                           1\n",
       "Agender                                             1\n",
       "cis-female/femme                                    1\n",
       "All                                                 1\n",
       "queer/she/they                                      1\n",
       "male leaning androgynous                            1\n",
       "Guy (-ish) ^_^                                      1\n",
       "msle                                                1\n",
       "Trans woman                                         1\n",
       "Neuter                                              1\n",
       "queer                                               1\n",
       "Female (cis)                                        1\n",
       "Mail                                                1\n",
       "cis male                                            1\n",
       "A little about you                                  1\n",
       "Malr                                                1\n",
       "p                                                   1\n",
       "Woman                                               1\n",
       "femail                                              1\n",
       "Cis Man                                             1\n",
       "ostensibly male, unsure what that really means      1\n",
       "Name: count, dtype: int64"
      ]
     },
     "execution_count": 14,
     "metadata": {},
     "output_type": "execute_result"
    }
   ],
   "source": [
    "#Comprobamos los datos de genero para limpiarlos\n",
    "survey['Gender'].value_counts(dropna=True)"
   ]
  },
  {
   "cell_type": "code",
   "execution_count": 15,
   "id": "2ce7187d-889d-4a83-bde7-5bae31868bc3",
   "metadata": {},
   "outputs": [],
   "source": [
    "#pasamos todos los valores a minusculas y eliminamos cualquier espacion que puedan tener\n",
    "survey['Gender'] = survey['Gender'].str.lower().str.strip()"
   ]
  },
  {
   "cell_type": "code",
   "execution_count": 16,
   "id": "503a50d0-e42f-44e7-bf02-3c2afd157154",
   "metadata": {},
   "outputs": [],
   "source": [
    "survey['Gender'] = survey['Gender'].replace({\n",
    "    'm' : 'male',\n",
    "    'm' : 'male',\n",
    "    'f' : 'female',\n",
    "    'f' : 'female'\n",
    "})"
   ]
  },
  {
   "cell_type": "code",
   "execution_count": 17,
   "id": "dcf8fd13-b1a9-46ae-b87e-9aead89820e9",
   "metadata": {},
   "outputs": [],
   "source": [
    "#Modificamos todos aquellos registros que no sean female o male por 'otros'\n",
    "#survey['Gender'].mask(~survey['Gender'].isin(['female','male']),'others',inplace=True)\n",
    "survey['Gender'] = survey['Gender'].mask(~survey['Gender'].isin(['female', 'male']), 'others')"
   ]
  },
  {
   "cell_type": "code",
   "execution_count": 18,
   "id": "7cfce647-0f26-4bfc-8771-13a50edc090a",
   "metadata": {},
   "outputs": [],
   "source": [
    "##Nos guardamos todos los valores de edad fuera de rango para limpiar el dataset\n",
    "survey['CleanedAge'] = survey['Age'].where((survey['Age'] > 16) & (survey['Age'] < 120))"
   ]
  },
  {
   "cell_type": "code",
   "execution_count": 19,
   "id": "2dad7d55-e8e5-4bb9-b970-a0b3a782b1b6",
   "metadata": {},
   "outputs": [],
   "source": [
    "survey = survey.drop(columns = 'Age')"
   ]
  },
  {
   "cell_type": "code",
   "execution_count": 20,
   "id": "952cd0d0-d107-4d82-9d71-c7eb80d1c093",
   "metadata": {},
   "outputs": [],
   "source": [
    "#Limpiamos nulos\n",
    "survey = survey.dropna(subset=['CleanedAge'])"
   ]
  },
  {
   "cell_type": "code",
   "execution_count": 21,
   "id": "84094f13-a370-452d-9eeb-fb1710305dc0",
   "metadata": {},
   "outputs": [],
   "source": [
    "survey['Age'] = survey.loc[:,'CleanedAge'].astype(int)"
   ]
  },
  {
   "cell_type": "code",
   "execution_count": 22,
   "id": "e55efcea-5ca1-44f5-8897-71145237959e",
   "metadata": {},
   "outputs": [],
   "source": [
    "survey = survey.drop(columns = 'CleanedAge')"
   ]
  },
  {
   "cell_type": "code",
   "execution_count": 47,
   "id": "98876563-7e7f-4de8-a0aa-f0bc3019bd3d",
   "metadata": {},
   "outputs": [],
   "source": [
    "#Creamos una columna para el rango de edades de los participantes\n",
    "survey['GrupoEdad'] = pd.cut(survey['Age'],bins=[18,25,35,45,60,float('inf')],labels=['18-25','26-35','36-45','46-60','+60'],right=False)"
   ]
  },
  {
   "cell_type": "code",
   "execution_count": 23,
   "id": "0da7341c-326e-423c-a563-6b74d937e545",
   "metadata": {},
   "outputs": [],
   "source": [
    "survey.to_excel(\"C:/Users/garci/Desktop/Data analytics/Analisis/Salud mental tecnologia/2014/cleanedDataset.xlsx\")"
   ]
  },
  {
   "cell_type": "code",
   "execution_count": 24,
   "id": "60cebe97-9772-4daa-bbbd-1e11b5ac8105",
   "metadata": {},
   "outputs": [
    {
     "name": "stdout",
     "output_type": "stream",
     "text": [
      "              Age\n",
      "count  971.000000\n",
      "mean    32.306900\n",
      "std      7.396749\n",
      "min     18.000000\n",
      "25%     27.000000\n",
      "50%     31.000000\n",
      "75%     36.000000\n",
      "max     72.000000\n",
      "<class 'pandas.core.frame.DataFrame'>\n",
      "Index: 971 entries, 18 to 1258\n",
      "Data columns (total 26 columns):\n",
      " #   Column                     Non-Null Count  Dtype \n",
      "---  ------                     --------------  ----- \n",
      " 0   Timestamp                  971 non-null    object\n",
      " 1   Gender                     971 non-null    object\n",
      " 2   Country                    971 non-null    object\n",
      " 3   self_employed              971 non-null    object\n",
      " 4   family_history             971 non-null    object\n",
      " 5   treatment                  971 non-null    object\n",
      " 6   work_interfere             971 non-null    object\n",
      " 7   no_employees               971 non-null    object\n",
      " 8   remote_work                971 non-null    object\n",
      " 9   tech_company               971 non-null    object\n",
      " 10  benefits                   971 non-null    object\n",
      " 11  care_options               971 non-null    object\n",
      " 12  wellness_program           971 non-null    object\n",
      " 13  seek_help                  971 non-null    object\n",
      " 14  anonymity                  971 non-null    object\n",
      " 15  leave                      971 non-null    object\n",
      " 16  mental_health_consequence  971 non-null    object\n",
      " 17  phys_health_consequence    971 non-null    object\n",
      " 18  coworkers                  971 non-null    object\n",
      " 19  supervisor                 971 non-null    object\n",
      " 20  mental_health_interview    971 non-null    object\n",
      " 21  phys_health_interview      971 non-null    object\n",
      " 22  mental_vs_physical         971 non-null    object\n",
      " 23  obs_consequence            971 non-null    object\n",
      " 24  comments                   138 non-null    object\n",
      " 25  Age                        971 non-null    int64 \n",
      "dtypes: int64(1), object(25)\n",
      "memory usage: 204.8+ KB\n",
      "None\n",
      "(971, 26)\n"
     ]
    }
   ],
   "source": [
    "print(survey.describe())\n",
    "print(survey.info())\n",
    "print(survey.shape)"
   ]
  },
  {
   "cell_type": "code",
   "execution_count": 25,
   "id": "5e559b2e-1140-49b4-9de9-ac5a0517c044",
   "metadata": {},
   "outputs": [],
   "source": [
    "survey = survey.drop(columns='Timestamp')\n",
    "survey = survey.drop(columns='comments')"
   ]
  },
  {
   "cell_type": "code",
   "execution_count": 34,
   "id": "b104e03f-fe1b-417a-b0da-9571d71615fa",
   "metadata": {},
   "outputs": [
    {
     "name": "stdout",
     "output_type": "stream",
     "text": [
      "Gender\n",
      "['male' 'female' 'others']\n",
      "\n",
      "Country\n",
      "['United States' 'United Kingdom' 'Canada' 'Netherlands' 'Poland'\n",
      " 'Australia' 'France' 'Germany' 'Mexico' 'Brazil' 'Slovenia' 'Ireland'\n",
      " 'India' 'South Africa' 'Russia' 'Italy' 'Colombia' 'Portugal'\n",
      " 'Switzerland' 'Belgium' 'Sweden' 'New Zealand' 'Finland' 'Israel'\n",
      " 'Bosnia and Herzegovina' 'Austria' 'Hungary' 'Singapore' 'Japan'\n",
      " 'Bulgaria' 'Croatia' 'Thailand' 'Denmark' 'Moldova' 'Georgia' 'China'\n",
      " 'Czech Republic' 'Philippines']\n",
      "\n",
      "self_employed\n",
      "['Yes' 'No']\n",
      "\n",
      "family_history\n",
      "['Yes' 'No']\n",
      "\n",
      "treatment\n",
      "['No' 'Yes']\n",
      "\n",
      "work_interfere\n",
      "['Sometimes' 'Never' 'Often' 'Rarely']\n",
      "\n",
      "no_employees\n",
      "['1-5' '100-500' '26-100' 'More than 1000' '6-25' '500-1000']\n",
      "\n",
      "remote_work\n",
      "['Yes' 'No']\n",
      "\n",
      "tech_company\n",
      "['Yes' 'No']\n",
      "\n",
      "benefits\n",
      "['Yes' 'No' \"Don't know\"]\n",
      "\n",
      "care_options\n",
      "['Not sure' 'Yes' 'No']\n",
      "\n",
      "wellness_program\n",
      "['Yes' 'No' \"Don't know\"]\n",
      "\n",
      "seek_help\n",
      "[\"Don't know\" 'No' 'Yes']\n",
      "\n",
      "anonymity\n",
      "['Yes' 'No' \"Don't know\"]\n",
      "\n",
      "leave\n",
      "['Very easy' 'Somewhat difficult' \"Don't know\" 'Very difficult'\n",
      " 'Somewhat easy']\n",
      "\n",
      "mental_health_consequence\n",
      "['No' 'Maybe' 'Yes']\n",
      "\n",
      "phys_health_consequence\n",
      "['No' 'Maybe' 'Yes']\n",
      "\n",
      "coworkers\n",
      "['Yes' 'Some of them' 'No']\n",
      "\n",
      "supervisor\n",
      "['Yes' 'Some of them' 'No']\n",
      "\n",
      "mental_health_interview\n",
      "['No' 'Maybe' 'Yes']\n",
      "\n",
      "phys_health_interview\n",
      "['Yes' 'No' 'Maybe']\n",
      "\n",
      "mental_vs_physical\n",
      "['Yes' 'No' \"Don't know\"]\n",
      "\n",
      "obs_consequence\n",
      "['Yes' 'No']\n",
      "\n"
     ]
    }
   ],
   "source": [
    "#Listamos los valores unicos de cada columna\n",
    "for column in survey.select_dtypes(include=['object','category']).columns:\n",
    "    print(column)\n",
    "    print(survey[column].unique())\n",
    "    print()"
   ]
  },
  {
   "cell_type": "code",
   "execution_count": 42,
   "id": "d84b9290-974a-4af5-8540-2015aa0b4113",
   "metadata": {},
   "outputs": [
    {
     "data": {
      "text/plain": [
       "<Axes: xlabel='Gender', ylabel='count'>"
      ]
     },
     "execution_count": 42,
     "metadata": {},
     "output_type": "execute_result"
    },
    {
     "data": {
      "image/png": "[encoded data removed]",
      "text/plain": [
       "<Figure size 640x480 with 1 Axes>"
      ]
     },
     "metadata": {},
     "output_type": "display_data"
    }
   ],
   "source": [
    "#y = survey['work_interfere']\n",
    "#barra1 = survey\n",
    "\n",
    "sns.countplot(survey, x=\"Gender\", hue=\"work_interfere\",palette=\"deep\")"
   ]
  },
  {
   "cell_type": "code",
   "execution_count": 48,
   "id": "0b03cc22-68e7-4fd2-8ec9-38250b7bf4e1",
   "metadata": {},
   "outputs": [
    {
     "data": {
      "text/plain": [
       "<Axes: xlabel='GrupoEdad', ylabel='count'>"
      ]
     },
     "execution_count": 48,
     "metadata": {},
     "output_type": "execute_result"
    },
    {
     "data": {
      "image/png": "[encoded data removed]",
      "text/plain": [
       "<Figure size 640x480 with 1 Axes>"
      ]
     },
     "metadata": {},
     "output_type": "display_data"
    }
   ],
   "source": [
    "sns.countplot(survey, x=\"GrupoEdad\", hue=\"work_interfere\",palette=\"deep\")"
   ]
  },
  {
   "cell_type": "code",
   "execution_count": 68,
   "id": "850d4be6-1a0e-4114-a60e-7da6d3cd1fc4",
   "metadata": {},
   "outputs": [
    {
     "data": {
      "image/png": "[encoded data removed]",
      "text/plain": [
       "<Figure size 640x480 with 1 Axes>"
      ]
     },
     "metadata": {},
     "output_type": "display_data"
    }
   ],
   "source": [
    "y = survey['wellness_program'].value_counts()\n",
    "labels = ['Si', 'No', \"No sé\"]\n",
    "plt.pie(y, labels=labels, autopct='%1.1f%%')\n",
    "plt.title(\"¿Ofrece tu empresa algún tipo de programa de bienestar?\")\n",
    "plt.show() "
   ]
  },
  {
   "cell_type": "code",
   "execution_count": 69,
   "id": "c7b16142-98c2-46ea-bd30-7ff45f0dc020",
   "metadata": {},
   "outputs": [
    {
     "data": {
      "image/png": "[encoded data removed]",
      "text/plain": [
       "<Figure size 640x480 with 1 Axes>"
      ]
     },
     "metadata": {},
     "output_type": "display_data"
    }
   ],
   "source": [
    "y = survey['seek_help'].value_counts()\n",
    "labels = ['Si', 'No', \"No sé\"]\n",
    "plt.pie(y, labels=labels, autopct='%1.1f%%')\n",
    "plt.title(\"¿Proporciona tu empresa recursos para buscar ayuda?\")\n",
    "plt.show() "
   ]
  },
  {
   "cell_type": "code",
   "execution_count": 95,
   "id": "1cf45c6d-8ef1-4e17-95ee-15a565683fa1",
   "metadata": {},
   "outputs": [
    {
     "data": {
      "text/plain": [
       "[Text(0, 0, '373'), Text(0, 0, '312'), Text(0, 0, '286')]"
      ]
     },
     "execution_count": 95,
     "metadata": {},
     "output_type": "execute_result"
    },
    {
     "data": {
      "image/png": "[encoded data removed]",
      "text/plain": [
       "<Figure size 640x480 with 1 Axes>"
      ]
     },
     "metadata": {},
     "output_type": "display_data"
    }
   ],
   "source": [
    "count_supervisor = survey['supervisor'].value_counts().reset_index()\n",
    "count_supervisor.columns = ['supervisor','cantidad']\n",
    "ax = sns.barplot(\n",
    "    data = count_supervisor,\n",
    "    x = 'supervisor',\n",
    "    y = 'cantidad'\n",
    "    \n",
    ")\n",
    "ax.bar_label(container)"
   ]
  },
  {
   "cell_type": "code",
   "execution_count": 87,
   "id": "458f6f50-b1bc-48e8-a905-59ab69d28c59",
   "metadata": {},
   "outputs": [
    {
     "data": {
      "text/html": [
       "<div>\n",
       "<style scoped>\n",
       "    .dataframe tbody tr th:only-of-type {\n",
       "        vertical-align: middle;\n",
       "    }\n",
       "\n",
       "    .dataframe tbody tr th {\n",
       "        vertical-align: top;\n",
       "    }\n",
       "\n",
       "    .dataframe thead th {\n",
       "        text-align: right;\n",
       "    }\n",
       "</style>\n",
       "<table border=\"1\" class=\"dataframe\">\n",
       "  <thead>\n",
       "    <tr style=\"text-align: right;\">\n",
       "      <th></th>\n",
       "      <th>supervisor</th>\n",
       "      <th>count</th>\n",
       "    </tr>\n",
       "  </thead>\n",
       "  <tbody>\n",
       "    <tr>\n",
       "      <th>0</th>\n",
       "      <td>Yes</td>\n",
       "      <td>373</td>\n",
       "    </tr>\n",
       "    <tr>\n",
       "      <th>1</th>\n",
       "      <td>No</td>\n",
       "      <td>312</td>\n",
       "    </tr>\n",
       "    <tr>\n",
       "      <th>2</th>\n",
       "      <td>Some of them</td>\n",
       "      <td>286</td>\n",
       "    </tr>\n",
       "  </tbody>\n",
       "</table>\n",
       "</div>"
      ],
      "text/plain": [
       "     supervisor  count\n",
       "0           Yes    373\n",
       "1            No    312\n",
       "2  Some of them    286"
      ]
     },
     "execution_count": 87,
     "metadata": {},
     "output_type": "execute_result"
    }
   ],
   "source": [
    "count_supervisor"
   ]
  },
  {
   "cell_type": "code",
   "execution_count": null,
   "id": "aa50462a-82f6-44ac-add6-c6c7e6a0ed1c",
   "metadata": {},
   "outputs": [],
   "source": []
  }
 ],
 "metadata": {
  "kernelspec": {
   "display_name": "Python 3 (ipykernel)",
   "language": "python",
   "name": "python3"
  },
  "language_info": {
   "codemirror_mode": {
    "name": "ipython",
    "version": 3
   },
   "file_extension": ".py",
   "mimetype": "text/x-python",
   "name": "python",
   "nbconvert_exporter": "python",
   "pygments_lexer": "ipython3",
   "version": "3.12.6"
  }
 },
 "nbformat": 4,
 "nbformat_minor": 5
}
