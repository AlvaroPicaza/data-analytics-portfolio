{
 "cells": [
  {
   "cell_type": "code",
   "execution_count": 1,
   "id": "7bac9620-4e31-4c59-b8ad-b68cf362d740",
   "metadata": {},
   "outputs": [],
   "source": [
    "import pandas as pd\n",
    "import numpy as np\n",
    "import matplotlib.pyplot as plt\n",
    "import seaborn as sns\n",
    "from datetime import datetime"
   ]
  },
  {
   "cell_type": "code",
   "execution_count": 2,
   "id": "1c38e670-86b1-4f4b-b429-8c0fc70465d7",
   "metadata": {},
   "outputs": [],
   "source": [
    "df = pd.read_csv(\"C:/Users/garci/Desktop/Data analytics/Analisis/Uber/ncr_ride_bookings.csv\")"
   ]
  },
  {
   "cell_type": "code",
   "execution_count": 3,
   "id": "3ff238a9-50c4-472c-bd6b-630b19a709cb",
   "metadata": {},
   "outputs": [
    {
     "data": {
      "text/html": [
       "<div>\n",
       "<style scoped>\n",
       "    .dataframe tbody tr th:only-of-type {\n",
       "        vertical-align: middle;\n",
       "    }\n",
       "\n",
       "    .dataframe tbody tr th {\n",
       "        vertical-align: top;\n",
       "    }\n",
       "\n",
       "    .dataframe thead th {\n",
       "        text-align: right;\n",
       "    }\n",
       "</style>\n",
       "<table border=\"1\" class=\"dataframe\">\n",
       "  <thead>\n",
       "    <tr style=\"text-align: right;\">\n",
       "      <th></th>\n",
       "      <th>Date</th>\n",
       "      <th>Time</th>\n",
       "      <th>Booking ID</th>\n",
       "      <th>Booking Status</th>\n",
       "      <th>Customer ID</th>\n",
       "      <th>Vehicle Type</th>\n",
       "      <th>Pickup Location</th>\n",
       "      <th>Drop Location</th>\n",
       "      <th>Avg VTAT</th>\n",
       "      <th>Avg CTAT</th>\n",
       "      <th>...</th>\n",
       "      <th>Reason for cancelling by Customer</th>\n",
       "      <th>Cancelled Rides by Driver</th>\n",
       "      <th>Driver Cancellation Reason</th>\n",
       "      <th>Incomplete Rides</th>\n",
       "      <th>Incomplete Rides Reason</th>\n",
       "      <th>Booking Value</th>\n",
       "      <th>Ride Distance</th>\n",
       "      <th>Driver Ratings</th>\n",
       "      <th>Customer Rating</th>\n",
       "      <th>Payment Method</th>\n",
       "    </tr>\n",
       "  </thead>\n",
       "  <tbody>\n",
       "    <tr>\n",
       "      <th>0</th>\n",
       "      <td>2024-03-23</td>\n",
       "      <td>12:29:38</td>\n",
       "      <td>\"CNR5884300\"</td>\n",
       "      <td>No Driver Found</td>\n",
       "      <td>\"CID1982111\"</td>\n",
       "      <td>eBike</td>\n",
       "      <td>Palam Vihar</td>\n",
       "      <td>Jhilmil</td>\n",
       "      <td>NaN</td>\n",
       "      <td>NaN</td>\n",
       "      <td>...</td>\n",
       "      <td>NaN</td>\n",
       "      <td>NaN</td>\n",
       "      <td>NaN</td>\n",
       "      <td>NaN</td>\n",
       "      <td>NaN</td>\n",
       "      <td>NaN</td>\n",
       "      <td>NaN</td>\n",
       "      <td>NaN</td>\n",
       "      <td>NaN</td>\n",
       "      <td>NaN</td>\n",
       "    </tr>\n",
       "    <tr>\n",
       "      <th>1</th>\n",
       "      <td>2024-11-29</td>\n",
       "      <td>18:01:39</td>\n",
       "      <td>\"CNR1326809\"</td>\n",
       "      <td>Incomplete</td>\n",
       "      <td>\"CID4604802\"</td>\n",
       "      <td>Go Sedan</td>\n",
       "      <td>Shastri Nagar</td>\n",
       "      <td>Gurgaon Sector 56</td>\n",
       "      <td>4.9</td>\n",
       "      <td>14.0</td>\n",
       "      <td>...</td>\n",
       "      <td>NaN</td>\n",
       "      <td>NaN</td>\n",
       "      <td>NaN</td>\n",
       "      <td>1.0</td>\n",
       "      <td>Vehicle Breakdown</td>\n",
       "      <td>237.0</td>\n",
       "      <td>5.73</td>\n",
       "      <td>NaN</td>\n",
       "      <td>NaN</td>\n",
       "      <td>UPI</td>\n",
       "    </tr>\n",
       "    <tr>\n",
       "      <th>2</th>\n",
       "      <td>2024-08-23</td>\n",
       "      <td>08:56:10</td>\n",
       "      <td>\"CNR8494506\"</td>\n",
       "      <td>Completed</td>\n",
       "      <td>\"CID9202816\"</td>\n",
       "      <td>Auto</td>\n",
       "      <td>Khandsa</td>\n",
       "      <td>Malviya Nagar</td>\n",
       "      <td>13.4</td>\n",
       "      <td>25.8</td>\n",
       "      <td>...</td>\n",
       "      <td>NaN</td>\n",
       "      <td>NaN</td>\n",
       "      <td>NaN</td>\n",
       "      <td>NaN</td>\n",
       "      <td>NaN</td>\n",
       "      <td>627.0</td>\n",
       "      <td>13.58</td>\n",
       "      <td>4.9</td>\n",
       "      <td>4.9</td>\n",
       "      <td>Debit Card</td>\n",
       "    </tr>\n",
       "    <tr>\n",
       "      <th>3</th>\n",
       "      <td>2024-10-21</td>\n",
       "      <td>17:17:25</td>\n",
       "      <td>\"CNR8906825\"</td>\n",
       "      <td>Completed</td>\n",
       "      <td>\"CID2610914\"</td>\n",
       "      <td>Premier Sedan</td>\n",
       "      <td>Central Secretariat</td>\n",
       "      <td>Inderlok</td>\n",
       "      <td>13.1</td>\n",
       "      <td>28.5</td>\n",
       "      <td>...</td>\n",
       "      <td>NaN</td>\n",
       "      <td>NaN</td>\n",
       "      <td>NaN</td>\n",
       "      <td>NaN</td>\n",
       "      <td>NaN</td>\n",
       "      <td>416.0</td>\n",
       "      <td>34.02</td>\n",
       "      <td>4.6</td>\n",
       "      <td>5.0</td>\n",
       "      <td>UPI</td>\n",
       "    </tr>\n",
       "    <tr>\n",
       "      <th>4</th>\n",
       "      <td>2024-09-16</td>\n",
       "      <td>22:08:00</td>\n",
       "      <td>\"CNR1950162\"</td>\n",
       "      <td>Completed</td>\n",
       "      <td>\"CID9933542\"</td>\n",
       "      <td>Bike</td>\n",
       "      <td>Ghitorni Village</td>\n",
       "      <td>Khan Market</td>\n",
       "      <td>5.3</td>\n",
       "      <td>19.6</td>\n",
       "      <td>...</td>\n",
       "      <td>NaN</td>\n",
       "      <td>NaN</td>\n",
       "      <td>NaN</td>\n",
       "      <td>NaN</td>\n",
       "      <td>NaN</td>\n",
       "      <td>737.0</td>\n",
       "      <td>48.21</td>\n",
       "      <td>4.1</td>\n",
       "      <td>4.3</td>\n",
       "      <td>UPI</td>\n",
       "    </tr>\n",
       "  </tbody>\n",
       "</table>\n",
       "<p>5 rows × 21 columns</p>\n",
       "</div>"
      ],
      "text/plain": [
       "         Date      Time    Booking ID   Booking Status   Customer ID  \\\n",
       "0  2024-03-23  12:29:38  \"CNR5884300\"  No Driver Found  \"CID1982111\"   \n",
       "1  2024-11-29  18:01:39  \"CNR1326809\"       Incomplete  \"CID4604802\"   \n",
       "2  2024-08-23  08:56:10  \"CNR8494506\"        Completed  \"CID9202816\"   \n",
       "3  2024-10-21  17:17:25  \"CNR8906825\"        Completed  \"CID2610914\"   \n",
       "4  2024-09-16  22:08:00  \"CNR1950162\"        Completed  \"CID9933542\"   \n",
       "\n",
       "    Vehicle Type      Pickup Location      Drop Location  Avg VTAT  Avg CTAT  \\\n",
       "0          eBike          Palam Vihar            Jhilmil       NaN       NaN   \n",
       "1       Go Sedan        Shastri Nagar  Gurgaon Sector 56       4.9      14.0   \n",
       "2           Auto              Khandsa      Malviya Nagar      13.4      25.8   \n",
       "3  Premier Sedan  Central Secretariat           Inderlok      13.1      28.5   \n",
       "4           Bike     Ghitorni Village        Khan Market       5.3      19.6   \n",
       "\n",
       "   ...  Reason for cancelling by Customer Cancelled Rides by Driver  \\\n",
       "0  ...                                NaN                       NaN   \n",
       "1  ...                                NaN                       NaN   \n",
       "2  ...                                NaN                       NaN   \n",
       "3  ...                                NaN                       NaN   \n",
       "4  ...                                NaN                       NaN   \n",
       "\n",
       "   Driver Cancellation Reason Incomplete Rides  Incomplete Rides Reason  \\\n",
       "0                         NaN              NaN                      NaN   \n",
       "1                         NaN              1.0        Vehicle Breakdown   \n",
       "2                         NaN              NaN                      NaN   \n",
       "3                         NaN              NaN                      NaN   \n",
       "4                         NaN              NaN                      NaN   \n",
       "\n",
       "  Booking Value  Ride Distance  Driver Ratings  Customer Rating  \\\n",
       "0           NaN            NaN             NaN              NaN   \n",
       "1         237.0           5.73             NaN              NaN   \n",
       "2         627.0          13.58             4.9              4.9   \n",
       "3         416.0          34.02             4.6              5.0   \n",
       "4         737.0          48.21             4.1              4.3   \n",
       "\n",
       "   Payment Method  \n",
       "0             NaN  \n",
       "1             UPI  \n",
       "2      Debit Card  \n",
       "3             UPI  \n",
       "4             UPI  \n",
       "\n",
       "[5 rows x 21 columns]"
      ]
     },
     "execution_count": 3,
     "metadata": {},
     "output_type": "execute_result"
    }
   ],
   "source": [
    "df.head()"
   ]
  },
  {
   "cell_type": "code",
   "execution_count": 4,
   "id": "b17b68a5-a684-44de-a8c5-5cea3af606fb",
   "metadata": {},
   "outputs": [
    {
     "name": "stdout",
     "output_type": "stream",
     "text": [
      "<class 'pandas.core.frame.DataFrame'>\n",
      "RangeIndex: 150000 entries, 0 to 149999\n",
      "Data columns (total 21 columns):\n",
      " #   Column                             Non-Null Count   Dtype  \n",
      "---  ------                             --------------   -----  \n",
      " 0   Date                               150000 non-null  object \n",
      " 1   Time                               150000 non-null  object \n",
      " 2   Booking ID                         150000 non-null  object \n",
      " 3   Booking Status                     150000 non-null  object \n",
      " 4   Customer ID                        150000 non-null  object \n",
      " 5   Vehicle Type                       150000 non-null  object \n",
      " 6   Pickup Location                    150000 non-null  object \n",
      " 7   Drop Location                      150000 non-null  object \n",
      " 8   Avg VTAT                           139500 non-null  float64\n",
      " 9   Avg CTAT                           102000 non-null  float64\n",
      " 10  Cancelled Rides by Customer        10500 non-null   float64\n",
      " 11  Reason for cancelling by Customer  10500 non-null   object \n",
      " 12  Cancelled Rides by Driver          27000 non-null   float64\n",
      " 13  Driver Cancellation Reason         27000 non-null   object \n",
      " 14  Incomplete Rides                   9000 non-null    float64\n",
      " 15  Incomplete Rides Reason            9000 non-null    object \n",
      " 16  Booking Value                      102000 non-null  float64\n",
      " 17  Ride Distance                      102000 non-null  float64\n",
      " 18  Driver Ratings                     93000 non-null   float64\n",
      " 19  Customer Rating                    93000 non-null   float64\n",
      " 20  Payment Method                     102000 non-null  object \n",
      "dtypes: float64(9), object(12)\n",
      "memory usage: 24.0+ MB\n"
     ]
    }
   ],
   "source": [
    "df.info()"
   ]
  },
  {
   "cell_type": "code",
   "execution_count": 5,
   "id": "d3644864-9ca6-42b9-98b1-8f55d2ab243b",
   "metadata": {},
   "outputs": [
    {
     "data": {
      "text/html": [
       "<div>\n",
       "<style scoped>\n",
       "    .dataframe tbody tr th:only-of-type {\n",
       "        vertical-align: middle;\n",
       "    }\n",
       "\n",
       "    .dataframe tbody tr th {\n",
       "        vertical-align: top;\n",
       "    }\n",
       "\n",
       "    .dataframe thead th {\n",
       "        text-align: right;\n",
       "    }\n",
       "</style>\n",
       "<table border=\"1\" class=\"dataframe\">\n",
       "  <thead>\n",
       "    <tr style=\"text-align: right;\">\n",
       "      <th></th>\n",
       "      <th>Avg VTAT</th>\n",
       "      <th>Avg CTAT</th>\n",
       "      <th>Cancelled Rides by Customer</th>\n",
       "      <th>Cancelled Rides by Driver</th>\n",
       "      <th>Incomplete Rides</th>\n",
       "      <th>Booking Value</th>\n",
       "      <th>Ride Distance</th>\n",
       "      <th>Driver Ratings</th>\n",
       "      <th>Customer Rating</th>\n",
       "    </tr>\n",
       "  </thead>\n",
       "  <tbody>\n",
       "    <tr>\n",
       "      <th>count</th>\n",
       "      <td>139500.000000</td>\n",
       "      <td>102000.000000</td>\n",
       "      <td>10500.0</td>\n",
       "      <td>27000.0</td>\n",
       "      <td>9000.0</td>\n",
       "      <td>102000.000000</td>\n",
       "      <td>102000.000000</td>\n",
       "      <td>93000.000000</td>\n",
       "      <td>93000.000000</td>\n",
       "    </tr>\n",
       "    <tr>\n",
       "      <th>mean</th>\n",
       "      <td>8.456352</td>\n",
       "      <td>29.149636</td>\n",
       "      <td>1.0</td>\n",
       "      <td>1.0</td>\n",
       "      <td>1.0</td>\n",
       "      <td>508.295912</td>\n",
       "      <td>24.637012</td>\n",
       "      <td>4.230992</td>\n",
       "      <td>4.404584</td>\n",
       "    </tr>\n",
       "    <tr>\n",
       "      <th>std</th>\n",
       "      <td>3.773564</td>\n",
       "      <td>8.902577</td>\n",
       "      <td>0.0</td>\n",
       "      <td>0.0</td>\n",
       "      <td>0.0</td>\n",
       "      <td>395.805774</td>\n",
       "      <td>14.002138</td>\n",
       "      <td>0.436871</td>\n",
       "      <td>0.437819</td>\n",
       "    </tr>\n",
       "    <tr>\n",
       "      <th>min</th>\n",
       "      <td>2.000000</td>\n",
       "      <td>10.000000</td>\n",
       "      <td>1.0</td>\n",
       "      <td>1.0</td>\n",
       "      <td>1.0</td>\n",
       "      <td>50.000000</td>\n",
       "      <td>1.000000</td>\n",
       "      <td>3.000000</td>\n",
       "      <td>3.000000</td>\n",
       "    </tr>\n",
       "    <tr>\n",
       "      <th>25%</th>\n",
       "      <td>5.300000</td>\n",
       "      <td>21.600000</td>\n",
       "      <td>1.0</td>\n",
       "      <td>1.0</td>\n",
       "      <td>1.0</td>\n",
       "      <td>234.000000</td>\n",
       "      <td>12.460000</td>\n",
       "      <td>4.100000</td>\n",
       "      <td>4.200000</td>\n",
       "    </tr>\n",
       "    <tr>\n",
       "      <th>50%</th>\n",
       "      <td>8.300000</td>\n",
       "      <td>28.800000</td>\n",
       "      <td>1.0</td>\n",
       "      <td>1.0</td>\n",
       "      <td>1.0</td>\n",
       "      <td>414.000000</td>\n",
       "      <td>23.720000</td>\n",
       "      <td>4.300000</td>\n",
       "      <td>4.500000</td>\n",
       "    </tr>\n",
       "    <tr>\n",
       "      <th>75%</th>\n",
       "      <td>11.300000</td>\n",
       "      <td>36.800000</td>\n",
       "      <td>1.0</td>\n",
       "      <td>1.0</td>\n",
       "      <td>1.0</td>\n",
       "      <td>689.000000</td>\n",
       "      <td>36.820000</td>\n",
       "      <td>4.600000</td>\n",
       "      <td>4.800000</td>\n",
       "    </tr>\n",
       "    <tr>\n",
       "      <th>max</th>\n",
       "      <td>20.000000</td>\n",
       "      <td>45.000000</td>\n",
       "      <td>1.0</td>\n",
       "      <td>1.0</td>\n",
       "      <td>1.0</td>\n",
       "      <td>4277.000000</td>\n",
       "      <td>50.000000</td>\n",
       "      <td>5.000000</td>\n",
       "      <td>5.000000</td>\n",
       "    </tr>\n",
       "  </tbody>\n",
       "</table>\n",
       "</div>"
      ],
      "text/plain": [
       "            Avg VTAT       Avg CTAT  Cancelled Rides by Customer  \\\n",
       "count  139500.000000  102000.000000                      10500.0   \n",
       "mean        8.456352      29.149636                          1.0   \n",
       "std         3.773564       8.902577                          0.0   \n",
       "min         2.000000      10.000000                          1.0   \n",
       "25%         5.300000      21.600000                          1.0   \n",
       "50%         8.300000      28.800000                          1.0   \n",
       "75%        11.300000      36.800000                          1.0   \n",
       "max        20.000000      45.000000                          1.0   \n",
       "\n",
       "       Cancelled Rides by Driver  Incomplete Rides  Booking Value  \\\n",
       "count                    27000.0            9000.0  102000.000000   \n",
       "mean                         1.0               1.0     508.295912   \n",
       "std                          0.0               0.0     395.805774   \n",
       "min                          1.0               1.0      50.000000   \n",
       "25%                          1.0               1.0     234.000000   \n",
       "50%                          1.0               1.0     414.000000   \n",
       "75%                          1.0               1.0     689.000000   \n",
       "max                          1.0               1.0    4277.000000   \n",
       "\n",
       "       Ride Distance  Driver Ratings  Customer Rating  \n",
       "count  102000.000000    93000.000000     93000.000000  \n",
       "mean       24.637012        4.230992         4.404584  \n",
       "std        14.002138        0.436871         0.437819  \n",
       "min         1.000000        3.000000         3.000000  \n",
       "25%        12.460000        4.100000         4.200000  \n",
       "50%        23.720000        4.300000         4.500000  \n",
       "75%        36.820000        4.600000         4.800000  \n",
       "max        50.000000        5.000000         5.000000  "
      ]
     },
     "execution_count": 5,
     "metadata": {},
     "output_type": "execute_result"
    }
   ],
   "source": [
    "df.describe()"
   ]
  },
  {
   "cell_type": "code",
   "execution_count": 6,
   "id": "7b4d76cd-e78a-4326-9e0b-e42c542097fd",
   "metadata": {},
   "outputs": [
    {
     "data": {
      "text/plain": [
       "Date                                      0\n",
       "Time                                      0\n",
       "Booking ID                                0\n",
       "Booking Status                            0\n",
       "Customer ID                               0\n",
       "Vehicle Type                              0\n",
       "Pickup Location                           0\n",
       "Drop Location                             0\n",
       "Avg VTAT                              10500\n",
       "Avg CTAT                              48000\n",
       "Cancelled Rides by Customer          139500\n",
       "Reason for cancelling by Customer    139500\n",
       "Cancelled Rides by Driver            123000\n",
       "Driver Cancellation Reason           123000\n",
       "Incomplete Rides                     141000\n",
       "Incomplete Rides Reason              141000\n",
       "Booking Value                         48000\n",
       "Ride Distance                         48000\n",
       "Driver Ratings                        57000\n",
       "Customer Rating                       57000\n",
       "Payment Method                        48000\n",
       "dtype: int64"
      ]
     },
     "execution_count": 6,
     "metadata": {},
     "output_type": "execute_result"
    }
   ],
   "source": [
    "df.isnull().sum()"
   ]
  },
  {
   "cell_type": "code",
   "execution_count": 7,
   "id": "eb3add70-f0a5-41f7-b5f7-81fceab55d82",
   "metadata": {},
   "outputs": [
    {
     "data": {
      "text/plain": [
       "np.int64(1233)"
      ]
     },
     "execution_count": 7,
     "metadata": {},
     "output_type": "execute_result"
    }
   ],
   "source": [
    "df.duplicated(subset=['Booking ID']).sum()"
   ]
  },
  {
   "cell_type": "markdown",
   "id": "98c56b1b-8619-4bd1-9c8f-049493b1baa8",
   "metadata": {},
   "source": [
    "#### Como el bookingID no es único incluimos una columna de ID"
   ]
  },
  {
   "cell_type": "code",
   "execution_count": 8,
   "id": "bec3d76c-df06-41ed-b387-111475bac783",
   "metadata": {},
   "outputs": [],
   "source": [
    "df['TripID'] = df.index"
   ]
  },
  {
   "cell_type": "code",
   "execution_count": 9,
   "id": "5a25ac45-282a-4bff-b337-127f07e2fcd9",
   "metadata": {},
   "outputs": [
    {
     "data": {
      "text/plain": [
       "Vehicle Type\n",
       "Auto             37419\n",
       "Go Mini          29806\n",
       "Go Sedan         27141\n",
       "Bike             22517\n",
       "Premier Sedan    18111\n",
       "eBike            10557\n",
       "Uber XL           4449\n",
       "Name: count, dtype: int64"
      ]
     },
     "execution_count": 9,
     "metadata": {},
     "output_type": "execute_result"
    }
   ],
   "source": [
    "df['Vehicle Type'].value_counts()"
   ]
  },
  {
   "cell_type": "markdown",
   "id": "5bf834e6-f83e-443e-b422-95fc91fe4d93",
   "metadata": {},
   "source": [
    "#### Viajes totales"
   ]
  },
  {
   "cell_type": "code",
   "execution_count": 10,
   "id": "59d586e6-cbd1-416e-bee4-9f6a9aacf5b6",
   "metadata": {},
   "outputs": [
    {
     "data": {
      "text/plain": [
       "np.int64(150000)"
      ]
     },
     "execution_count": 10,
     "metadata": {},
     "output_type": "execute_result"
    }
   ],
   "source": [
    "df.loc[:,'Booking ID'].count()"
   ]
  },
  {
   "cell_type": "markdown",
   "id": "624dfd69-dd24-40f9-ad62-a182e29d9624",
   "metadata": {},
   "source": [
    "#### Porcentaje de viajes completados"
   ]
  },
  {
   "cell_type": "code",
   "execution_count": 11,
   "id": "c4eaac7c-2593-40cb-b2b1-7a522a44b700",
   "metadata": {},
   "outputs": [
    {
     "name": "stdout",
     "output_type": "stream",
     "text": [
      "Un total de 93000 viajes con un porcentaje de completado de 62%\n"
     ]
    }
   ],
   "source": [
    "total_viajes = len(df)\n",
    "mask_total_bookings = (df['Booking Status'] == 'Completed')\n",
    "viajes_completados = len((df.loc[mask_total_bookings]))\n",
    "p_viajes_completos = int((viajes_completados*100)/total_viajes)\n",
    "print(\"Un total de \" +str(viajes_completados)+\" viajes con un porcentaje de completado de \"+str(p_viajes_completos)+\"%\")"
   ]
  },
  {
   "cell_type": "markdown",
   "id": "0faf1dc2-3a42-41d9-9a76-94e6799d4f92",
   "metadata": {},
   "source": [
    "#### Ratio de cancelaciones"
   ]
  },
  {
   "cell_type": "code",
   "execution_count": 12,
   "id": "6e99d83a-6833-48b4-88e2-3c08c886658c",
   "metadata": {},
   "outputs": [],
   "source": [
    "mask_cancelados_usuario = (df['Booking Status'] == 'Cancelled by Customer')\n",
    "mask_cancelados_conductor = (df['Booking Status'] == 'Cancelled by Driver')\n",
    "cancelados_usuario = len((df.loc[mask_cancelados_usuario]))\n",
    "cancelados_conductor = len((df.loc[mask_cancelados_conductor]))\n",
    "p_cancelados_usuario = int((cancelados_usuario*100)/total_viajes)\n",
    "p_cancelados_conductor = int((cancelados_conductor*100)/total_viajes)"
   ]
  },
  {
   "cell_type": "code",
   "execution_count": 13,
   "id": "4b1537b2-06aa-4864-a0de-a181798f8c2b",
   "metadata": {},
   "outputs": [
    {
     "name": "stdout",
     "output_type": "stream",
     "text": [
      "Un total de 10500 viajes cancelados por los usuarios con un porcentaje de cancelaciones de 7%\n"
     ]
    }
   ],
   "source": [
    "print(\"Un total de \" +str(cancelados_usuario)+\" viajes cancelados por los usuarios con un porcentaje de cancelaciones de \"+str(p_cancelados_usuario)+\"%\")"
   ]
  },
  {
   "cell_type": "code",
   "execution_count": 14,
   "id": "ed2d2baf-6252-497f-be7a-9fb9e7619e34",
   "metadata": {},
   "outputs": [
    {
     "name": "stdout",
     "output_type": "stream",
     "text": [
      "Un total de 27000 viajes cancelados por los conductores con un porcentaje de cancelaciones de 18%\n"
     ]
    }
   ],
   "source": [
    "print(\"Un total de \" +str(cancelados_conductor)+\" viajes cancelados por los conductores con un porcentaje de cancelaciones de \"+str(p_cancelados_conductor)+\"%\")"
   ]
  },
  {
   "cell_type": "markdown",
   "id": "949e229d-cacc-4f0b-805a-94a8901e5e32",
   "metadata": {},
   "source": [
    "#### Viajes perdidos por conductor no encontrado"
   ]
  },
  {
   "cell_type": "code",
   "execution_count": 15,
   "id": "02943567-44ac-44ac-9e6a-3b0383765865",
   "metadata": {},
   "outputs": [
    {
     "name": "stdout",
     "output_type": "stream",
     "text": [
      "Un total de 10500 viajes perdidos por falta de conductor con un porcentaje de 7%\n"
     ]
    }
   ],
   "source": [
    "mask_sin_conductor = (df['Booking Status'] == 'No Driver Found')\n",
    "sin_conductor = len((df.loc[mask_sin_conductor]))\n",
    "p_sin_conductor = int((sin_conductor*100)/total_viajes)\n",
    "print(\"Un total de \" +str(sin_conductor)+\" viajes perdidos por falta de conductor con un porcentaje de \"+str(p_sin_conductor)+\"%\")"
   ]
  },
  {
   "cell_type": "code",
   "execution_count": 16,
   "id": "27da2f60-ece3-402e-8802-573b35bfe7a9",
   "metadata": {},
   "outputs": [
    {
     "data": {
      "text/plain": [
       "np.int64(93000)"
      ]
     },
     "execution_count": 16,
     "metadata": {},
     "output_type": "execute_result"
    }
   ],
   "source": [
    "df.loc[mask_total_bookings,'Booking ID'].count()"
   ]
  },
  {
   "cell_type": "markdown",
   "id": "8e9ca761-8637-4449-aed4-df60e13c9b3e",
   "metadata": {},
   "source": [
    "#### Pasamos a datetime la fecha para poder recuperar el día de la semana y mes"
   ]
  },
  {
   "cell_type": "code",
   "execution_count": 17,
   "id": "22008db3-ac30-4107-a5c9-61ab2b502bd3",
   "metadata": {},
   "outputs": [],
   "source": [
    "df['Date'] = pd.to_datetime(df['Date'], format='%Y-%m-%d')"
   ]
  },
  {
   "cell_type": "code",
   "execution_count": 18,
   "id": "1fbf17d0-8471-45fc-b773-0d5af8b835cf",
   "metadata": {},
   "outputs": [],
   "source": [
    "df['weekday']  = df[\"Date\"].dt.day_name()\n",
    "df['month']  = df[\"Date\"].dt.month_name()"
   ]
  },
  {
   "cell_type": "code",
   "execution_count": 19,
   "id": "9ec12ab8-f122-4443-b071-d225ab43303a",
   "metadata": {},
   "outputs": [],
   "source": [
    "bookings_by_day = df.groupby(['weekday'])['TripID'].count().reset_index()"
   ]
  },
  {
   "cell_type": "code",
   "execution_count": 20,
   "id": "788e7026-dc3a-4385-87d6-17d69a8cfab0",
   "metadata": {},
   "outputs": [],
   "source": [
    "bookings_by_day = bookings_by_day.rename(columns={'TripID':'Bookings'})"
   ]
  },
  {
   "cell_type": "code",
   "execution_count": 21,
   "id": "8d584913-97c5-4d6d-8ac4-edf7b535a9c7",
   "metadata": {},
   "outputs": [],
   "source": [
    "bookings_by_day = bookings_by_day.sort_values(by='Bookings', ascending = False)"
   ]
  },
  {
   "cell_type": "code",
   "execution_count": 22,
   "id": "5cf2f985-dd1d-4e68-ae14-27cf55794f65",
   "metadata": {},
   "outputs": [
    {
     "data": {
      "text/html": [
       "<div>\n",
       "<style scoped>\n",
       "    .dataframe tbody tr th:only-of-type {\n",
       "        vertical-align: middle;\n",
       "    }\n",
       "\n",
       "    .dataframe tbody tr th {\n",
       "        vertical-align: top;\n",
       "    }\n",
       "\n",
       "    .dataframe thead th {\n",
       "        text-align: right;\n",
       "    }\n",
       "</style>\n",
       "<table border=\"1\" class=\"dataframe\">\n",
       "  <thead>\n",
       "    <tr style=\"text-align: right;\">\n",
       "      <th></th>\n",
       "      <th>weekday</th>\n",
       "      <th>Bookings</th>\n",
       "    </tr>\n",
       "  </thead>\n",
       "  <tbody>\n",
       "    <tr>\n",
       "      <th>1</th>\n",
       "      <td>Monday</td>\n",
       "      <td>21644</td>\n",
       "    </tr>\n",
       "    <tr>\n",
       "      <th>2</th>\n",
       "      <td>Saturday</td>\n",
       "      <td>21542</td>\n",
       "    </tr>\n",
       "    <tr>\n",
       "      <th>6</th>\n",
       "      <td>Wednesday</td>\n",
       "      <td>21413</td>\n",
       "    </tr>\n",
       "    <tr>\n",
       "      <th>3</th>\n",
       "      <td>Sunday</td>\n",
       "      <td>21398</td>\n",
       "    </tr>\n",
       "    <tr>\n",
       "      <th>0</th>\n",
       "      <td>Friday</td>\n",
       "      <td>21397</td>\n",
       "    </tr>\n",
       "    <tr>\n",
       "      <th>5</th>\n",
       "      <td>Tuesday</td>\n",
       "      <td>21391</td>\n",
       "    </tr>\n",
       "    <tr>\n",
       "      <th>4</th>\n",
       "      <td>Thursday</td>\n",
       "      <td>21215</td>\n",
       "    </tr>\n",
       "  </tbody>\n",
       "</table>\n",
       "</div>"
      ],
      "text/plain": [
       "     weekday  Bookings\n",
       "1     Monday     21644\n",
       "2   Saturday     21542\n",
       "6  Wednesday     21413\n",
       "3     Sunday     21398\n",
       "0     Friday     21397\n",
       "5    Tuesday     21391\n",
       "4   Thursday     21215"
      ]
     },
     "execution_count": 22,
     "metadata": {},
     "output_type": "execute_result"
    }
   ],
   "source": [
    "bookings_by_day"
   ]
  },
  {
   "cell_type": "markdown",
   "id": "229db7f5-361f-4106-a982-96bcd454c6c5",
   "metadata": {},
   "source": [
    "#### Los 10 puntos de recogida más repetidos"
   ]
  },
  {
   "cell_type": "code",
   "execution_count": 23,
   "id": "06303771-e037-446d-a3e8-b863f0d4a1dc",
   "metadata": {},
   "outputs": [],
   "source": [
    "pickup = df.groupby(['Pickup Location'])['TripID'].count().reset_index()\n",
    "pickup = pickup.rename(columns={'TripID':'Number of trips'})\n",
    "pickup = pickup.sort_values(by='Number of trips', ascending = False)\n",
    "pickup = pickup.head(10)"
   ]
  },
  {
   "cell_type": "code",
   "execution_count": 24,
   "id": "5c868b8b-c249-4146-8cc6-ea8360c885d5",
   "metadata": {},
   "outputs": [
    {
     "data": {
      "text/html": [
       "<div>\n",
       "<style scoped>\n",
       "    .dataframe tbody tr th:only-of-type {\n",
       "        vertical-align: middle;\n",
       "    }\n",
       "\n",
       "    .dataframe tbody tr th {\n",
       "        vertical-align: top;\n",
       "    }\n",
       "\n",
       "    .dataframe thead th {\n",
       "        text-align: right;\n",
       "    }\n",
       "</style>\n",
       "<table border=\"1\" class=\"dataframe\">\n",
       "  <thead>\n",
       "    <tr style=\"text-align: right;\">\n",
       "      <th></th>\n",
       "      <th>Pickup Location</th>\n",
       "      <th>Number of trips</th>\n",
       "    </tr>\n",
       "  </thead>\n",
       "  <tbody>\n",
       "    <tr>\n",
       "      <th>80</th>\n",
       "      <td>Khandsa</td>\n",
       "      <td>949</td>\n",
       "    </tr>\n",
       "    <tr>\n",
       "      <th>16</th>\n",
       "      <td>Barakhamba Road</td>\n",
       "      <td>946</td>\n",
       "    </tr>\n",
       "    <tr>\n",
       "      <th>141</th>\n",
       "      <td>Saket</td>\n",
       "      <td>931</td>\n",
       "    </tr>\n",
       "    <tr>\n",
       "      <th>13</th>\n",
       "      <td>Badarpur</td>\n",
       "      <td>921</td>\n",
       "    </tr>\n",
       "    <tr>\n",
       "      <th>124</th>\n",
       "      <td>Pragati Maidan</td>\n",
       "      <td>920</td>\n",
       "    </tr>\n",
       "    <tr>\n",
       "      <th>88</th>\n",
       "      <td>Madipur</td>\n",
       "      <td>919</td>\n",
       "    </tr>\n",
       "    <tr>\n",
       "      <th>0</th>\n",
       "      <td>AIIMS</td>\n",
       "      <td>918</td>\n",
       "    </tr>\n",
       "    <tr>\n",
       "      <th>96</th>\n",
       "      <td>Mehrauli</td>\n",
       "      <td>915</td>\n",
       "    </tr>\n",
       "    <tr>\n",
       "      <th>34</th>\n",
       "      <td>Dwarka Sector 21</td>\n",
       "      <td>914</td>\n",
       "    </tr>\n",
       "    <tr>\n",
       "      <th>120</th>\n",
       "      <td>Pataudi Chowk</td>\n",
       "      <td>907</td>\n",
       "    </tr>\n",
       "  </tbody>\n",
       "</table>\n",
       "</div>"
      ],
      "text/plain": [
       "      Pickup Location  Number of trips\n",
       "80            Khandsa              949\n",
       "16    Barakhamba Road              946\n",
       "141             Saket              931\n",
       "13           Badarpur              921\n",
       "124    Pragati Maidan              920\n",
       "88            Madipur              919\n",
       "0               AIIMS              918\n",
       "96           Mehrauli              915\n",
       "34   Dwarka Sector 21              914\n",
       "120     Pataudi Chowk              907"
      ]
     },
     "execution_count": 24,
     "metadata": {},
     "output_type": "execute_result"
    }
   ],
   "source": [
    "pickup"
   ]
  },
  {
   "cell_type": "markdown",
   "id": "49902cb2-c571-48f3-8946-86a5b060ea5b",
   "metadata": {},
   "source": [
    "#### Los 10 puntos de llegada más repetidos"
   ]
  },
  {
   "cell_type": "code",
   "execution_count": 25,
   "id": "df628a44-6d7e-4774-a342-3ba1a2290ae4",
   "metadata": {},
   "outputs": [],
   "source": [
    "drop = df.groupby(['Drop Location'])['TripID'].count().reset_index()\n",
    "drop = drop.rename(columns={'TripID':'Number of trips'})\n",
    "drop = drop.sort_values(by='Number of trips', ascending = False)\n",
    "drop = drop.head(10)"
   ]
  },
  {
   "cell_type": "code",
   "execution_count": 26,
   "id": "73d3062d-e273-4ab2-91d6-e9c1d653b914",
   "metadata": {},
   "outputs": [
    {
     "data": {
      "text/html": [
       "<div>\n",
       "<style scoped>\n",
       "    .dataframe tbody tr th:only-of-type {\n",
       "        vertical-align: middle;\n",
       "    }\n",
       "\n",
       "    .dataframe tbody tr th {\n",
       "        vertical-align: top;\n",
       "    }\n",
       "\n",
       "    .dataframe thead th {\n",
       "        text-align: right;\n",
       "    }\n",
       "</style>\n",
       "<table border=\"1\" class=\"dataframe\">\n",
       "  <thead>\n",
       "    <tr style=\"text-align: right;\">\n",
       "      <th></th>\n",
       "      <th>Drop Location</th>\n",
       "      <th>Number of trips</th>\n",
       "    </tr>\n",
       "  </thead>\n",
       "  <tbody>\n",
       "    <tr>\n",
       "      <th>10</th>\n",
       "      <td>Ashram</td>\n",
       "      <td>936</td>\n",
       "    </tr>\n",
       "    <tr>\n",
       "      <th>17</th>\n",
       "      <td>Basai Dhankot</td>\n",
       "      <td>917</td>\n",
       "    </tr>\n",
       "    <tr>\n",
       "      <th>86</th>\n",
       "      <td>Lok Kalyan Marg</td>\n",
       "      <td>916</td>\n",
       "    </tr>\n",
       "    <tr>\n",
       "      <th>102</th>\n",
       "      <td>Narsinghpur</td>\n",
       "      <td>913</td>\n",
       "    </tr>\n",
       "    <tr>\n",
       "      <th>28</th>\n",
       "      <td>Cyber Hub</td>\n",
       "      <td>912</td>\n",
       "    </tr>\n",
       "    <tr>\n",
       "      <th>71</th>\n",
       "      <td>Kalkaji</td>\n",
       "      <td>912</td>\n",
       "    </tr>\n",
       "    <tr>\n",
       "      <th>76</th>\n",
       "      <td>Kashmere Gate ISBT</td>\n",
       "      <td>909</td>\n",
       "    </tr>\n",
       "    <tr>\n",
       "      <th>165</th>\n",
       "      <td>Udyog Vihar</td>\n",
       "      <td>906</td>\n",
       "    </tr>\n",
       "    <tr>\n",
       "      <th>83</th>\n",
       "      <td>Lajpat Nagar</td>\n",
       "      <td>904</td>\n",
       "    </tr>\n",
       "    <tr>\n",
       "      <th>104</th>\n",
       "      <td>Nehru Place</td>\n",
       "      <td>902</td>\n",
       "    </tr>\n",
       "  </tbody>\n",
       "</table>\n",
       "</div>"
      ],
      "text/plain": [
       "          Drop Location  Number of trips\n",
       "10               Ashram              936\n",
       "17        Basai Dhankot              917\n",
       "86      Lok Kalyan Marg              916\n",
       "102         Narsinghpur              913\n",
       "28            Cyber Hub              912\n",
       "71              Kalkaji              912\n",
       "76   Kashmere Gate ISBT              909\n",
       "165         Udyog Vihar              906\n",
       "83         Lajpat Nagar              904\n",
       "104         Nehru Place              902"
      ]
     },
     "execution_count": 26,
     "metadata": {},
     "output_type": "execute_result"
    }
   ],
   "source": [
    "drop"
   ]
  },
  {
   "cell_type": "markdown",
   "id": "9481c803-503a-4711-bb29-9a111b0c9988",
   "metadata": {},
   "source": [
    "## Estadísticas por vehículos"
   ]
  },
  {
   "cell_type": "markdown",
   "id": "3b9c54f0-6298-4224-89d4-fad5f4570af5",
   "metadata": {},
   "source": [
    "#### Viajes totales"
   ]
  },
  {
   "cell_type": "code",
   "execution_count": 27,
   "id": "b10625a3-7a94-4bdb-bd23-9adb662af839",
   "metadata": {},
   "outputs": [],
   "source": [
    "vehicle_bookings = df.groupby(['Vehicle Type'])['TripID'].count().reset_index()\n",
    "vehicle_bookings = vehicle_bookings.rename(columns={'TripID':'Number of trips'})\n",
    "vehicle_bookings = vehicle_bookings.sort_values(by='Number of trips', ascending = False)"
   ]
  },
  {
   "cell_type": "code",
   "execution_count": 28,
   "id": "0c92b8bd-b600-4aa2-b7aa-b051ec4ddd69",
   "metadata": {},
   "outputs": [
    {
     "data": {
      "text/html": [
       "<div>\n",
       "<style scoped>\n",
       "    .dataframe tbody tr th:only-of-type {\n",
       "        vertical-align: middle;\n",
       "    }\n",
       "\n",
       "    .dataframe tbody tr th {\n",
       "        vertical-align: top;\n",
       "    }\n",
       "\n",
       "    .dataframe thead th {\n",
       "        text-align: right;\n",
       "    }\n",
       "</style>\n",
       "<table border=\"1\" class=\"dataframe\">\n",
       "  <thead>\n",
       "    <tr style=\"text-align: right;\">\n",
       "      <th></th>\n",
       "      <th>Vehicle Type</th>\n",
       "      <th>Number of trips</th>\n",
       "    </tr>\n",
       "  </thead>\n",
       "  <tbody>\n",
       "    <tr>\n",
       "      <th>0</th>\n",
       "      <td>Auto</td>\n",
       "      <td>37419</td>\n",
       "    </tr>\n",
       "    <tr>\n",
       "      <th>2</th>\n",
       "      <td>Go Mini</td>\n",
       "      <td>29806</td>\n",
       "    </tr>\n",
       "    <tr>\n",
       "      <th>3</th>\n",
       "      <td>Go Sedan</td>\n",
       "      <td>27141</td>\n",
       "    </tr>\n",
       "    <tr>\n",
       "      <th>1</th>\n",
       "      <td>Bike</td>\n",
       "      <td>22517</td>\n",
       "    </tr>\n",
       "    <tr>\n",
       "      <th>4</th>\n",
       "      <td>Premier Sedan</td>\n",
       "      <td>18111</td>\n",
       "    </tr>\n",
       "    <tr>\n",
       "      <th>6</th>\n",
       "      <td>eBike</td>\n",
       "      <td>10557</td>\n",
       "    </tr>\n",
       "    <tr>\n",
       "      <th>5</th>\n",
       "      <td>Uber XL</td>\n",
       "      <td>4449</td>\n",
       "    </tr>\n",
       "  </tbody>\n",
       "</table>\n",
       "</div>"
      ],
      "text/plain": [
       "    Vehicle Type  Number of trips\n",
       "0           Auto            37419\n",
       "2        Go Mini            29806\n",
       "3       Go Sedan            27141\n",
       "1           Bike            22517\n",
       "4  Premier Sedan            18111\n",
       "6          eBike            10557\n",
       "5        Uber XL             4449"
      ]
     },
     "execution_count": 28,
     "metadata": {},
     "output_type": "execute_result"
    }
   ],
   "source": [
    "vehicle_bookings"
   ]
  },
  {
   "cell_type": "markdown",
   "id": "29f3a506-a54a-4396-b63c-b3593ed0d02e",
   "metadata": {},
   "source": [
    "#### Distancia total recorrida"
   ]
  },
  {
   "cell_type": "code",
   "execution_count": 29,
   "id": "a92af3a1-019c-4e7b-b848-9a4f81e853ce",
   "metadata": {},
   "outputs": [
    {
     "data": {
      "text/html": [
       "<div>\n",
       "<style scoped>\n",
       "    .dataframe tbody tr th:only-of-type {\n",
       "        vertical-align: middle;\n",
       "    }\n",
       "\n",
       "    .dataframe tbody tr th {\n",
       "        vertical-align: top;\n",
       "    }\n",
       "\n",
       "    .dataframe thead th {\n",
       "        text-align: right;\n",
       "    }\n",
       "</style>\n",
       "<table border=\"1\" class=\"dataframe\">\n",
       "  <thead>\n",
       "    <tr style=\"text-align: right;\">\n",
       "      <th></th>\n",
       "      <th>Vehicle Type</th>\n",
       "      <th>Total Ride Distance</th>\n",
       "    </tr>\n",
       "  </thead>\n",
       "  <tbody>\n",
       "    <tr>\n",
       "      <th>0</th>\n",
       "      <td>Auto</td>\n",
       "      <td>625615.53</td>\n",
       "    </tr>\n",
       "    <tr>\n",
       "      <th>2</th>\n",
       "      <td>Go Mini</td>\n",
       "      <td>501200.60</td>\n",
       "    </tr>\n",
       "    <tr>\n",
       "      <th>3</th>\n",
       "      <td>Go Sedan</td>\n",
       "      <td>450793.61</td>\n",
       "    </tr>\n",
       "    <tr>\n",
       "      <th>1</th>\n",
       "      <td>Bike</td>\n",
       "      <td>378666.33</td>\n",
       "    </tr>\n",
       "    <tr>\n",
       "      <th>4</th>\n",
       "      <td>Premier Sedan</td>\n",
       "      <td>302936.14</td>\n",
       "    </tr>\n",
       "    <tr>\n",
       "      <th>6</th>\n",
       "      <td>eBike</td>\n",
       "      <td>179456.17</td>\n",
       "    </tr>\n",
       "    <tr>\n",
       "      <th>5</th>\n",
       "      <td>Uber XL</td>\n",
       "      <td>74306.81</td>\n",
       "    </tr>\n",
       "  </tbody>\n",
       "</table>\n",
       "</div>"
      ],
      "text/plain": [
       "    Vehicle Type  Total Ride Distance\n",
       "0           Auto            625615.53\n",
       "2        Go Mini            501200.60\n",
       "3       Go Sedan            450793.61\n",
       "1           Bike            378666.33\n",
       "4  Premier Sedan            302936.14\n",
       "6          eBike            179456.17\n",
       "5        Uber XL             74306.81"
      ]
     },
     "execution_count": 29,
     "metadata": {},
     "output_type": "execute_result"
    }
   ],
   "source": [
    "vehicle_total_distance = df.groupby(['Vehicle Type'])['Ride Distance'].sum().reset_index()\n",
    "vehicle_total_distance['Ride Distance'] = vehicle_total_distance['Ride Distance'].round(2)\n",
    "vehicle_total_distance = vehicle_total_distance.rename(columns={'Ride Distance':'Total Ride Distance'})\n",
    "vehicle_total_distance = vehicle_total_distance.sort_values(by='Total Ride Distance', ascending = False)\n",
    "vehicle_total_distance"
   ]
  },
  {
   "cell_type": "markdown",
   "id": "186df16f-ad84-4df8-b99e-ac61b1138def",
   "metadata": {},
   "source": [
    "#### Distancia media recorrida"
   ]
  },
  {
   "cell_type": "code",
   "execution_count": 30,
   "id": "06f091fe-9f68-4e3b-975e-3fae970aa761",
   "metadata": {},
   "outputs": [
    {
     "data": {
      "text/html": [
       "<div>\n",
       "<style scoped>\n",
       "    .dataframe tbody tr th:only-of-type {\n",
       "        vertical-align: middle;\n",
       "    }\n",
       "\n",
       "    .dataframe tbody tr th {\n",
       "        vertical-align: top;\n",
       "    }\n",
       "\n",
       "    .dataframe thead th {\n",
       "        text-align: right;\n",
       "    }\n",
       "</style>\n",
       "<table border=\"1\" class=\"dataframe\">\n",
       "  <thead>\n",
       "    <tr style=\"text-align: right;\">\n",
       "      <th></th>\n",
       "      <th>Vehicle Type</th>\n",
       "      <th>Average Ride Distance</th>\n",
       "    </tr>\n",
       "  </thead>\n",
       "  <tbody>\n",
       "    <tr>\n",
       "      <th>6</th>\n",
       "      <td>eBike</td>\n",
       "      <td>24.99</td>\n",
       "    </tr>\n",
       "    <tr>\n",
       "      <th>1</th>\n",
       "      <td>Bike</td>\n",
       "      <td>24.65</td>\n",
       "    </tr>\n",
       "    <tr>\n",
       "      <th>0</th>\n",
       "      <td>Auto</td>\n",
       "      <td>24.62</td>\n",
       "    </tr>\n",
       "    <tr>\n",
       "      <th>2</th>\n",
       "      <td>Go Mini</td>\n",
       "      <td>24.61</td>\n",
       "    </tr>\n",
       "    <tr>\n",
       "      <th>3</th>\n",
       "      <td>Go Sedan</td>\n",
       "      <td>24.61</td>\n",
       "    </tr>\n",
       "    <tr>\n",
       "      <th>4</th>\n",
       "      <td>Premier Sedan</td>\n",
       "      <td>24.60</td>\n",
       "    </tr>\n",
       "    <tr>\n",
       "      <th>5</th>\n",
       "      <td>Uber XL</td>\n",
       "      <td>24.40</td>\n",
       "    </tr>\n",
       "  </tbody>\n",
       "</table>\n",
       "</div>"
      ],
      "text/plain": [
       "    Vehicle Type  Average Ride Distance\n",
       "6          eBike                  24.99\n",
       "1           Bike                  24.65\n",
       "0           Auto                  24.62\n",
       "2        Go Mini                  24.61\n",
       "3       Go Sedan                  24.61\n",
       "4  Premier Sedan                  24.60\n",
       "5        Uber XL                  24.40"
      ]
     },
     "execution_count": 30,
     "metadata": {},
     "output_type": "execute_result"
    }
   ],
   "source": [
    "vehicle_avg_distance = df.groupby(['Vehicle Type'])['Ride Distance'].mean().reset_index()\n",
    "vehicle_avg_distance['Ride Distance'] = vehicle_avg_distance['Ride Distance'].round(2)\n",
    "vehicle_avg_distance = vehicle_avg_distance.rename(columns={'Ride Distance':'Average Ride Distance'})\n",
    "vehicle_avg_distance = vehicle_avg_distance.sort_values(by='Average Ride Distance', ascending = False)\n",
    "vehicle_avg_distance"
   ]
  },
  {
   "cell_type": "markdown",
   "id": "95bf17b8-c39c-4b1d-a62a-e5f7bd9861e2",
   "metadata": {},
   "source": [
    "#### Tarifa media"
   ]
  },
  {
   "cell_type": "code",
   "execution_count": 31,
   "id": "9df716e2-c7ca-4065-8263-fd5879dd2661",
   "metadata": {},
   "outputs": [
    {
     "data": {
      "text/html": [
       "<div>\n",
       "<style scoped>\n",
       "    .dataframe tbody tr th:only-of-type {\n",
       "        vertical-align: middle;\n",
       "    }\n",
       "\n",
       "    .dataframe tbody tr th {\n",
       "        vertical-align: top;\n",
       "    }\n",
       "\n",
       "    .dataframe thead th {\n",
       "        text-align: right;\n",
       "    }\n",
       "</style>\n",
       "<table border=\"1\" class=\"dataframe\">\n",
       "  <thead>\n",
       "    <tr style=\"text-align: right;\">\n",
       "      <th></th>\n",
       "      <th>Vehicle Type</th>\n",
       "      <th>Average Fare</th>\n",
       "    </tr>\n",
       "  </thead>\n",
       "  <tbody>\n",
       "    <tr>\n",
       "      <th>3</th>\n",
       "      <td>Go Sedan</td>\n",
       "      <td>511.50</td>\n",
       "    </tr>\n",
       "    <tr>\n",
       "      <th>1</th>\n",
       "      <td>Bike</td>\n",
       "      <td>510.20</td>\n",
       "    </tr>\n",
       "    <tr>\n",
       "      <th>4</th>\n",
       "      <td>Premier Sedan</td>\n",
       "      <td>509.57</td>\n",
       "    </tr>\n",
       "    <tr>\n",
       "      <th>2</th>\n",
       "      <td>Go Mini</td>\n",
       "      <td>507.68</td>\n",
       "    </tr>\n",
       "    <tr>\n",
       "      <th>0</th>\n",
       "      <td>Auto</td>\n",
       "      <td>506.73</td>\n",
       "    </tr>\n",
       "    <tr>\n",
       "      <th>6</th>\n",
       "      <td>eBike</td>\n",
       "      <td>503.90</td>\n",
       "    </tr>\n",
       "    <tr>\n",
       "      <th>5</th>\n",
       "      <td>Uber XL</td>\n",
       "      <td>501.82</td>\n",
       "    </tr>\n",
       "  </tbody>\n",
       "</table>\n",
       "</div>"
      ],
      "text/plain": [
       "    Vehicle Type  Average Fare\n",
       "3       Go Sedan        511.50\n",
       "1           Bike        510.20\n",
       "4  Premier Sedan        509.57\n",
       "2        Go Mini        507.68\n",
       "0           Auto        506.73\n",
       "6          eBike        503.90\n",
       "5        Uber XL        501.82"
      ]
     },
     "execution_count": 31,
     "metadata": {},
     "output_type": "execute_result"
    }
   ],
   "source": [
    "vehicle_fare = df.groupby(['Vehicle Type'])['Booking Value'].mean().reset_index()\n",
    "vehicle_fare['Booking Value'] = vehicle_fare['Booking Value'].round(2)\n",
    "vehicle_fare = vehicle_fare.rename(columns={'Booking Value':'Average Fare'})\n",
    "vehicle_fare = vehicle_fare.sort_values(by='Average Fare', ascending = False)\n",
    "vehicle_fare"
   ]
  },
  {
   "cell_type": "markdown",
   "id": "db824d54-c104-4520-886d-217973f75818",
   "metadata": {},
   "source": [
    "#### Porcentaje de viajes completados por vehículo"
   ]
  },
  {
   "cell_type": "code",
   "execution_count": 32,
   "id": "733e3a72-219c-4cef-b8a9-acb26b7e57d7",
   "metadata": {},
   "outputs": [],
   "source": [
    "totales = df.groupby(['Vehicle Type'])['Booking Status'].count()"
   ]
  },
  {
   "cell_type": "code",
   "execution_count": 33,
   "id": "ecf890fa-39bb-47ae-9c81-c1251b4b2517",
   "metadata": {},
   "outputs": [],
   "source": [
    "completados = df[df['Booking Status'] == 'Completed'].groupby('Vehicle Type')['Booking Status'].count()"
   ]
  },
  {
   "cell_type": "code",
   "execution_count": 34,
   "id": "6f75d96b-c3b6-4a18-961c-14188f6242b8",
   "metadata": {},
   "outputs": [
    {
     "data": {
      "text/plain": [
       "Vehicle Type\n",
       "Auto             61.880328\n",
       "Bike             62.326242\n",
       "Go Mini          62.232436\n",
       "Go Sedan         61.442099\n",
       "Premier Sedan    62.127989\n",
       "Uber XL          62.553383\n",
       "eBike            62.053614\n",
       "Name: Booking Status, dtype: float64"
      ]
     },
     "execution_count": 34,
     "metadata": {},
     "output_type": "execute_result"
    }
   ],
   "source": [
    "porcentaje_completados = (completados * 100)/totales\n",
    "porcentaje_completados"
   ]
  },
  {
   "cell_type": "code",
   "execution_count": 35,
   "id": "7730630e-e33b-4b27-8225-24166ad6033c",
   "metadata": {},
   "outputs": [
    {
     "data": {
      "text/plain": [
       "Vehicle Type\n",
       "Auto             61.880328\n",
       "Bike             62.326242\n",
       "Go Mini          62.232436\n",
       "Go Sedan         61.442099\n",
       "Premier Sedan    62.127989\n",
       "Uber XL          62.553383\n",
       "eBike            62.053614\n",
       "Name: Booking Status, dtype: float64"
      ]
     },
     "execution_count": 35,
     "metadata": {},
     "output_type": "execute_result"
    }
   ],
   "source": [
    "porcentaje_completados"
   ]
  },
  {
   "cell_type": "code",
   "execution_count": 36,
   "id": "2879d78b-34bd-4ccf-bbbe-4b285858b719",
   "metadata": {},
   "outputs": [],
   "source": [
    "## vehicle_bookings, vehicle_total_distance, vehicle_avg_distance, vehicle_fare, porcentaje_completados\n",
    "stats_table = vehicle_bookings.merge(vehicle_total_distance,on='Vehicle Type').merge(vehicle_avg_distance,on='Vehicle Type').merge(vehicle_fare,on='Vehicle Type').merge(porcentaje_completados,on='Vehicle Type')\n",
    "stats_table = stats_table.rename(columns={'Booking Status':'Completion percentage'})"
   ]
  },
  {
   "cell_type": "code",
   "execution_count": 37,
   "id": "4c6f1167-28ef-4a9e-9bf6-4ee67661ba68",
   "metadata": {},
   "outputs": [
    {
     "data": {
      "text/html": [
       "<div>\n",
       "<style scoped>\n",
       "    .dataframe tbody tr th:only-of-type {\n",
       "        vertical-align: middle;\n",
       "    }\n",
       "\n",
       "    .dataframe tbody tr th {\n",
       "        vertical-align: top;\n",
       "    }\n",
       "\n",
       "    .dataframe thead th {\n",
       "        text-align: right;\n",
       "    }\n",
       "</style>\n",
       "<table border=\"1\" class=\"dataframe\">\n",
       "  <thead>\n",
       "    <tr style=\"text-align: right;\">\n",
       "      <th></th>\n",
       "      <th>Vehicle Type</th>\n",
       "      <th>Number of trips</th>\n",
       "      <th>Total Ride Distance</th>\n",
       "      <th>Average Ride Distance</th>\n",
       "      <th>Average Fare</th>\n",
       "      <th>Completion percentage</th>\n",
       "    </tr>\n",
       "  </thead>\n",
       "  <tbody>\n",
       "    <tr>\n",
       "      <th>0</th>\n",
       "      <td>Auto</td>\n",
       "      <td>37419</td>\n",
       "      <td>625615.53</td>\n",
       "      <td>24.62</td>\n",
       "      <td>506.73</td>\n",
       "      <td>61.880328</td>\n",
       "    </tr>\n",
       "    <tr>\n",
       "      <th>1</th>\n",
       "      <td>Go Mini</td>\n",
       "      <td>29806</td>\n",
       "      <td>501200.60</td>\n",
       "      <td>24.61</td>\n",
       "      <td>507.68</td>\n",
       "      <td>62.232436</td>\n",
       "    </tr>\n",
       "    <tr>\n",
       "      <th>2</th>\n",
       "      <td>Go Sedan</td>\n",
       "      <td>27141</td>\n",
       "      <td>450793.61</td>\n",
       "      <td>24.61</td>\n",
       "      <td>511.50</td>\n",
       "      <td>61.442099</td>\n",
       "    </tr>\n",
       "    <tr>\n",
       "      <th>3</th>\n",
       "      <td>Bike</td>\n",
       "      <td>22517</td>\n",
       "      <td>378666.33</td>\n",
       "      <td>24.65</td>\n",
       "      <td>510.20</td>\n",
       "      <td>62.326242</td>\n",
       "    </tr>\n",
       "    <tr>\n",
       "      <th>4</th>\n",
       "      <td>Premier Sedan</td>\n",
       "      <td>18111</td>\n",
       "      <td>302936.14</td>\n",
       "      <td>24.60</td>\n",
       "      <td>509.57</td>\n",
       "      <td>62.127989</td>\n",
       "    </tr>\n",
       "    <tr>\n",
       "      <th>5</th>\n",
       "      <td>eBike</td>\n",
       "      <td>10557</td>\n",
       "      <td>179456.17</td>\n",
       "      <td>24.99</td>\n",
       "      <td>503.90</td>\n",
       "      <td>62.053614</td>\n",
       "    </tr>\n",
       "    <tr>\n",
       "      <th>6</th>\n",
       "      <td>Uber XL</td>\n",
       "      <td>4449</td>\n",
       "      <td>74306.81</td>\n",
       "      <td>24.40</td>\n",
       "      <td>501.82</td>\n",
       "      <td>62.553383</td>\n",
       "    </tr>\n",
       "  </tbody>\n",
       "</table>\n",
       "</div>"
      ],
      "text/plain": [
       "    Vehicle Type  Number of trips  Total Ride Distance  Average Ride Distance  \\\n",
       "0           Auto            37419            625615.53                  24.62   \n",
       "1        Go Mini            29806            501200.60                  24.61   \n",
       "2       Go Sedan            27141            450793.61                  24.61   \n",
       "3           Bike            22517            378666.33                  24.65   \n",
       "4  Premier Sedan            18111            302936.14                  24.60   \n",
       "5          eBike            10557            179456.17                  24.99   \n",
       "6        Uber XL             4449             74306.81                  24.40   \n",
       "\n",
       "   Average Fare  Completion percentage  \n",
       "0        506.73              61.880328  \n",
       "1        507.68              62.232436  \n",
       "2        511.50              61.442099  \n",
       "3        510.20              62.326242  \n",
       "4        509.57              62.127989  \n",
       "5        503.90              62.053614  \n",
       "6        501.82              62.553383  "
      ]
     },
     "execution_count": 37,
     "metadata": {},
     "output_type": "execute_result"
    }
   ],
   "source": [
    "stats_table"
   ]
  },
  {
   "cell_type": "markdown",
   "id": "2a15e75a-11fa-4c47-93c4-28ae34847dbe",
   "metadata": {},
   "source": [
    "## Distribución del método de pago"
   ]
  },
  {
   "cell_type": "code",
   "execution_count": 38,
   "id": "b19bd32b-79a7-42ea-afe7-4710961b8dcf",
   "metadata": {},
   "outputs": [],
   "source": [
    "mask_completos = df['Booking Status'] == 'Completed'\n",
    "viajes_completos = df.loc[mask_completos]"
   ]
  },
  {
   "cell_type": "code",
   "execution_count": 39,
   "id": "4b53ef7c-795a-4802-b70e-6a57909b4e82",
   "metadata": {},
   "outputs": [],
   "source": [
    "payment_dist = ((viajes_completos['Payment Method'].value_counts(normalize=True) * 100).reset_index()).round(2)\n",
    "payment_dist = payment_dist.rename(columns={'proportion':'Percentage'})"
   ]
  },
  {
   "cell_type": "code",
   "execution_count": 40,
   "id": "e1939a50-aa35-4f6d-84ba-7d4b6e3dfe3d",
   "metadata": {},
   "outputs": [
    {
     "data": {
      "text/html": [
       "<div>\n",
       "<style scoped>\n",
       "    .dataframe tbody tr th:only-of-type {\n",
       "        vertical-align: middle;\n",
       "    }\n",
       "\n",
       "    .dataframe tbody tr th {\n",
       "        vertical-align: top;\n",
       "    }\n",
       "\n",
       "    .dataframe thead th {\n",
       "        text-align: right;\n",
       "    }\n",
       "</style>\n",
       "<table border=\"1\" class=\"dataframe\">\n",
       "  <thead>\n",
       "    <tr style=\"text-align: right;\">\n",
       "      <th></th>\n",
       "      <th>Payment Method</th>\n",
       "      <th>Percentage</th>\n",
       "    </tr>\n",
       "  </thead>\n",
       "  <tbody>\n",
       "    <tr>\n",
       "      <th>0</th>\n",
       "      <td>UPI</td>\n",
       "      <td>44.98</td>\n",
       "    </tr>\n",
       "    <tr>\n",
       "      <th>1</th>\n",
       "      <td>Cash</td>\n",
       "      <td>24.85</td>\n",
       "    </tr>\n",
       "    <tr>\n",
       "      <th>2</th>\n",
       "      <td>Uber Wallet</td>\n",
       "      <td>12.05</td>\n",
       "    </tr>\n",
       "    <tr>\n",
       "      <th>3</th>\n",
       "      <td>Credit Card</td>\n",
       "      <td>10.02</td>\n",
       "    </tr>\n",
       "    <tr>\n",
       "      <th>4</th>\n",
       "      <td>Debit Card</td>\n",
       "      <td>8.09</td>\n",
       "    </tr>\n",
       "  </tbody>\n",
       "</table>\n",
       "</div>"
      ],
      "text/plain": [
       "  Payment Method  Percentage\n",
       "0            UPI       44.98\n",
       "1           Cash       24.85\n",
       "2    Uber Wallet       12.05\n",
       "3    Credit Card       10.02\n",
       "4     Debit Card        8.09"
      ]
     },
     "execution_count": 40,
     "metadata": {},
     "output_type": "execute_result"
    }
   ],
   "source": [
    "payment_dist"
   ]
  },
  {
   "cell_type": "markdown",
   "id": "88bb52db-f236-479f-8eaf-faf0f18afba6",
   "metadata": {},
   "source": [
    "## Distribución razones cancelación"
   ]
  },
  {
   "cell_type": "markdown",
   "id": "23764f6c-cbc2-4b1b-a1f6-b577803a1952",
   "metadata": {},
   "source": [
    "#### Cancelaciones usuarios"
   ]
  },
  {
   "cell_type": "code",
   "execution_count": 41,
   "id": "e2fcf9ca-ceef-4343-98fc-6a2208d1b094",
   "metadata": {},
   "outputs": [
    {
     "data": {
      "text/html": [
       "<div>\n",
       "<style scoped>\n",
       "    .dataframe tbody tr th:only-of-type {\n",
       "        vertical-align: middle;\n",
       "    }\n",
       "\n",
       "    .dataframe tbody tr th {\n",
       "        vertical-align: top;\n",
       "    }\n",
       "\n",
       "    .dataframe thead th {\n",
       "        text-align: right;\n",
       "    }\n",
       "</style>\n",
       "<table border=\"1\" class=\"dataframe\">\n",
       "  <thead>\n",
       "    <tr style=\"text-align: right;\">\n",
       "      <th></th>\n",
       "      <th>Reason for cancelling by Customer</th>\n",
       "      <th>Percentage</th>\n",
       "    </tr>\n",
       "  </thead>\n",
       "  <tbody>\n",
       "    <tr>\n",
       "      <th>0</th>\n",
       "      <td>Wrong Address</td>\n",
       "      <td>22.50</td>\n",
       "    </tr>\n",
       "    <tr>\n",
       "      <th>1</th>\n",
       "      <td>Change of plans</td>\n",
       "      <td>22.41</td>\n",
       "    </tr>\n",
       "    <tr>\n",
       "      <th>2</th>\n",
       "      <td>Driver is not moving towards pickup location</td>\n",
       "      <td>22.24</td>\n",
       "    </tr>\n",
       "    <tr>\n",
       "      <th>3</th>\n",
       "      <td>Driver asked to cancel</td>\n",
       "      <td>21.86</td>\n",
       "    </tr>\n",
       "    <tr>\n",
       "      <th>4</th>\n",
       "      <td>AC is not working</td>\n",
       "      <td>11.00</td>\n",
       "    </tr>\n",
       "  </tbody>\n",
       "</table>\n",
       "</div>"
      ],
      "text/plain": [
       "              Reason for cancelling by Customer  Percentage\n",
       "0                                 Wrong Address       22.50\n",
       "1                               Change of plans       22.41\n",
       "2  Driver is not moving towards pickup location       22.24\n",
       "3                        Driver asked to cancel       21.86\n",
       "4                             AC is not working       11.00"
      ]
     },
     "execution_count": 41,
     "metadata": {},
     "output_type": "execute_result"
    }
   ],
   "source": [
    "user_cancellations = ((df['Reason for cancelling by Customer'].value_counts(normalize=True) * 100).reset_index()).round(2)\n",
    "user_cancellations = user_cancellations.rename(columns={'proportion':'Percentage'})\n",
    "user_cancellations"
   ]
  },
  {
   "cell_type": "markdown",
   "id": "db9ac45a-63ea-45c7-85c2-d79e13b58505",
   "metadata": {},
   "source": [
    "#### Cancelaciones conductores"
   ]
  },
  {
   "cell_type": "code",
   "execution_count": 42,
   "id": "8d847182-aba4-4e6b-9185-d569574c4a94",
   "metadata": {},
   "outputs": [
    {
     "data": {
      "text/html": [
       "<div>\n",
       "<style scoped>\n",
       "    .dataframe tbody tr th:only-of-type {\n",
       "        vertical-align: middle;\n",
       "    }\n",
       "\n",
       "    .dataframe tbody tr th {\n",
       "        vertical-align: top;\n",
       "    }\n",
       "\n",
       "    .dataframe thead th {\n",
       "        text-align: right;\n",
       "    }\n",
       "</style>\n",
       "<table border=\"1\" class=\"dataframe\">\n",
       "  <thead>\n",
       "    <tr style=\"text-align: right;\">\n",
       "      <th></th>\n",
       "      <th>Driver Cancellation Reason</th>\n",
       "      <th>Percentage</th>\n",
       "    </tr>\n",
       "  </thead>\n",
       "  <tbody>\n",
       "    <tr>\n",
       "      <th>0</th>\n",
       "      <td>Customer related issue</td>\n",
       "      <td>25.32</td>\n",
       "    </tr>\n",
       "    <tr>\n",
       "      <th>1</th>\n",
       "      <td>The customer was coughing/sick</td>\n",
       "      <td>25.00</td>\n",
       "    </tr>\n",
       "    <tr>\n",
       "      <th>2</th>\n",
       "      <td>Personal &amp; Car related issues</td>\n",
       "      <td>24.91</td>\n",
       "    </tr>\n",
       "    <tr>\n",
       "      <th>3</th>\n",
       "      <td>More than permitted people in there</td>\n",
       "      <td>24.76</td>\n",
       "    </tr>\n",
       "  </tbody>\n",
       "</table>\n",
       "</div>"
      ],
      "text/plain": [
       "            Driver Cancellation Reason  Percentage\n",
       "0               Customer related issue       25.32\n",
       "1       The customer was coughing/sick       25.00\n",
       "2        Personal & Car related issues       24.91\n",
       "3  More than permitted people in there       24.76"
      ]
     },
     "execution_count": 42,
     "metadata": {},
     "output_type": "execute_result"
    }
   ],
   "source": [
    "driver_cancellations = ((df['Driver Cancellation Reason'].value_counts(normalize=True) * 100).reset_index()).round(2)\n",
    "driver_cancellations = driver_cancellations.rename(columns={'proportion':'Percentage'})\n",
    "driver_cancellations"
   ]
  },
  {
   "cell_type": "markdown",
   "id": "eeb39c4b-9c66-4c9e-9508-d513714df110",
   "metadata": {},
   "source": [
    "#### Viajes incompletos"
   ]
  },
  {
   "cell_type": "code",
   "execution_count": 43,
   "id": "8c74ff66-7c5e-41e2-bc03-82da968e7e19",
   "metadata": {},
   "outputs": [
    {
     "data": {
      "text/html": [
       "<div>\n",
       "<style scoped>\n",
       "    .dataframe tbody tr th:only-of-type {\n",
       "        vertical-align: middle;\n",
       "    }\n",
       "\n",
       "    .dataframe tbody tr th {\n",
       "        vertical-align: top;\n",
       "    }\n",
       "\n",
       "    .dataframe thead th {\n",
       "        text-align: right;\n",
       "    }\n",
       "</style>\n",
       "<table border=\"1\" class=\"dataframe\">\n",
       "  <thead>\n",
       "    <tr style=\"text-align: right;\">\n",
       "      <th></th>\n",
       "      <th>Incomplete Rides Reason</th>\n",
       "      <th>Percentage</th>\n",
       "    </tr>\n",
       "  </thead>\n",
       "  <tbody>\n",
       "    <tr>\n",
       "      <th>0</th>\n",
       "      <td>Customer Demand</td>\n",
       "      <td>33.78</td>\n",
       "    </tr>\n",
       "    <tr>\n",
       "      <th>1</th>\n",
       "      <td>Vehicle Breakdown</td>\n",
       "      <td>33.47</td>\n",
       "    </tr>\n",
       "    <tr>\n",
       "      <th>2</th>\n",
       "      <td>Other Issue</td>\n",
       "      <td>32.76</td>\n",
       "    </tr>\n",
       "  </tbody>\n",
       "</table>\n",
       "</div>"
      ],
      "text/plain": [
       "  Incomplete Rides Reason  Percentage\n",
       "0         Customer Demand       33.78\n",
       "1       Vehicle Breakdown       33.47\n",
       "2             Other Issue       32.76"
      ]
     },
     "execution_count": 43,
     "metadata": {},
     "output_type": "execute_result"
    }
   ],
   "source": [
    "incomplete_bookings = ((df['Incomplete Rides Reason'].value_counts(normalize=True) * 100).reset_index()).round(2)\n",
    "incomplete_bookings = incomplete_bookings.rename(columns={'proportion':'Percentage'})\n",
    "incomplete_bookings"
   ]
  },
  {
   "cell_type": "markdown",
   "id": "d82993fe-bc17-4221-a4bb-45a3e6b20cdc",
   "metadata": {},
   "source": [
    "## Puntuaciones conductores y usuarios"
   ]
  },
  {
   "cell_type": "code",
   "execution_count": 44,
   "id": "2753aa26-1d32-4cec-a04a-8aac659b2632",
   "metadata": {},
   "outputs": [
    {
     "name": "stdout",
     "output_type": "stream",
     "text": [
      "La puntuación media de los usuarios es 4.4\n"
     ]
    }
   ],
   "source": [
    "avg_customer_rating = (df['Customer Rating'].mean()).round(2)\n",
    "print(\"La puntuación media de los usuarios es \" + str(avg_customer_rating))"
   ]
  },
  {
   "cell_type": "markdown",
   "id": "a1e48f86-3cad-4303-a482-11698a532978",
   "metadata": {},
   "source": [
    "#### Media puntuación usuario por vehículo"
   ]
  },
  {
   "cell_type": "code",
   "execution_count": 45,
   "id": "b0e38c8d-a700-400e-87c9-5a8b8fff6a00",
   "metadata": {},
   "outputs": [
    {
     "data": {
      "text/html": [
       "<div>\n",
       "<style scoped>\n",
       "    .dataframe tbody tr th:only-of-type {\n",
       "        vertical-align: middle;\n",
       "    }\n",
       "\n",
       "    .dataframe tbody tr th {\n",
       "        vertical-align: top;\n",
       "    }\n",
       "\n",
       "    .dataframe thead th {\n",
       "        text-align: right;\n",
       "    }\n",
       "</style>\n",
       "<table border=\"1\" class=\"dataframe\">\n",
       "  <thead>\n",
       "    <tr style=\"text-align: right;\">\n",
       "      <th></th>\n",
       "      <th>Vehicle Type</th>\n",
       "      <th>Customer Rating</th>\n",
       "    </tr>\n",
       "  </thead>\n",
       "  <tbody>\n",
       "    <tr>\n",
       "      <th>3</th>\n",
       "      <td>Go Sedan</td>\n",
       "      <td>4.410</td>\n",
       "    </tr>\n",
       "    <tr>\n",
       "      <th>5</th>\n",
       "      <td>Uber XL</td>\n",
       "      <td>4.405</td>\n",
       "    </tr>\n",
       "    <tr>\n",
       "      <th>1</th>\n",
       "      <td>Bike</td>\n",
       "      <td>4.404</td>\n",
       "    </tr>\n",
       "    <tr>\n",
       "      <th>6</th>\n",
       "      <td>eBike</td>\n",
       "      <td>4.404</td>\n",
       "    </tr>\n",
       "    <tr>\n",
       "      <th>2</th>\n",
       "      <td>Go Mini</td>\n",
       "      <td>4.404</td>\n",
       "    </tr>\n",
       "    <tr>\n",
       "      <th>4</th>\n",
       "      <td>Premier Sedan</td>\n",
       "      <td>4.403</td>\n",
       "    </tr>\n",
       "    <tr>\n",
       "      <th>0</th>\n",
       "      <td>Auto</td>\n",
       "      <td>4.402</td>\n",
       "    </tr>\n",
       "  </tbody>\n",
       "</table>\n",
       "</div>"
      ],
      "text/plain": [
       "    Vehicle Type  Customer Rating\n",
       "3       Go Sedan            4.410\n",
       "5        Uber XL            4.405\n",
       "1           Bike            4.404\n",
       "6          eBike            4.404\n",
       "2        Go Mini            4.404\n",
       "4  Premier Sedan            4.403\n",
       "0           Auto            4.402"
      ]
     },
     "execution_count": 45,
     "metadata": {},
     "output_type": "execute_result"
    }
   ],
   "source": [
    "vehicle_rating = (df.groupby('Vehicle Type')['Customer Rating'].mean().reset_index()).round(3)\n",
    "vehicle_rating = vehicle_rating.sort_values(by='Customer Rating',ascending = False)\n",
    "vehicle_rating"
   ]
  },
  {
   "cell_type": "code",
   "execution_count": 46,
   "id": "786bda48-2bed-449b-b2de-a4087398e0ca",
   "metadata": {},
   "outputs": [
    {
     "data": {
      "image/png": "[encoded data removed]",
      "text/plain": [
       "<Figure size 640x480 with 1 Axes>"
      ]
     },
     "metadata": {},
     "output_type": "display_data"
    }
   ],
   "source": [
    "orden_meses = ['January','February','March','April','May','June','July','August','September','October','November','December']\n",
    "df_meses = df.groupby('month')['TripID'].count().reset_index()\n",
    "df_meses = df_meses.rename(columns={'TripID':'Trips'})\n",
    "ax = sns.barplot(\n",
    "    df_meses,\n",
    "    x = 'month',\n",
    "    y = 'Trips',\n",
    "    order = orden_meses\n",
    ")\n",
    "for container in ax.containers:\n",
    "    ax.bar_label(container)\n",
    "sns.set_theme(rc={'figure.figsize':(18,8)})\n",
    "plt.title('Número de viajes por mes')\n",
    "plt.show()"
   ]
  },
  {
   "cell_type": "code",
   "execution_count": 47,
   "id": "1e87df72-e129-4a06-a727-59e17e190eca",
   "metadata": {},
   "outputs": [
    {
     "data": {
      "image/png": "[encoded data removed]",
      "text/plain": [
       "<Figure size 1800x800 with 1 Axes>"
      ]
     },
     "metadata": {},
     "output_type": "display_data"
    }
   ],
   "source": [
    "orden_dias = ['Monday', 'Tuesday', 'Wednesday', 'Thursday', 'Friday', 'Saturday', 'Sunday']\n",
    "viajes_dia = df.groupby('weekday')['TripID'].count().reset_index()\n",
    "ax = sns.barplot(\n",
    "    viajes_dia,\n",
    "    x = 'weekday',\n",
    "    y = 'TripID',\n",
    "    order = orden_dias\n",
    ")\n",
    "for container in ax.containers:\n",
    "    ax.bar_label(container)\n",
    "plt.title(\"Viajes por día de la semana\")\n",
    "plt.show()"
   ]
  },
  {
   "cell_type": "code",
   "execution_count": 48,
   "id": "66ee4826-1b0e-4781-a8a4-4fe902ff77d4",
   "metadata": {},
   "outputs": [
    {
     "data": {
      "image/png": "[encoded data removed]",
      "text/plain": [
       "<Figure size 1800x800 with 1 Axes>"
      ]
     },
     "metadata": {},
     "output_type": "display_data"
    }
   ],
   "source": [
    "ax = sns.countplot(\n",
    "    df,\n",
    "    x = 'Booking Status',\n",
    "    hue = 'Vehicle Type'\n",
    ")\n",
    "plt.title(\"Distribución viajes por vehículo\")\n",
    "plt.show()"
   ]
  },
  {
   "cell_type": "code",
   "execution_count": 49,
   "id": "80d26e54-1aa9-4e28-b70c-fa392a2a9e4e",
   "metadata": {},
   "outputs": [
    {
     "data": {
      "image/png": "[encoded data removed]",
      "text/plain": [
       "<Figure size 1800x800 with 1 Axes>"
      ]
     },
     "metadata": {},
     "output_type": "display_data"
    }
   ],
   "source": [
    "y = df['Booking Status'].value_counts()\n",
    "labels = ['Completed','Canceled by Driver','No Driver Found','Cancelled by Customer','Incomplete']\n",
    "plt.pie(\n",
    "    y,\n",
    "    labels = labels,\n",
    "    autopct='%1.1f%%'\n",
    ")\n",
    "plt.title(\"Distribución del estado de los viajes\")\n",
    "plt.show()"
   ]
  },
  {
   "cell_type": "code",
   "execution_count": 50,
   "id": "c1c45a59-7f55-4b44-a67b-4225dc6b7a37",
   "metadata": {},
   "outputs": [
    {
     "data": {
      "image/png": "[encoded data removed]",
      "text/plain": [
       "<Figure size 1800x800 with 1 Axes>"
      ]
     },
     "metadata": {},
     "output_type": "display_data"
    }
   ],
   "source": [
    "ax = sns.barplot(\n",
    "    vehicle_bookings,\n",
    "    x = 'Vehicle Type',\n",
    "    y='Number of trips'\n",
    ")\n",
    "\n",
    "for container in ax.containers:\n",
    "    ax.bar_label(container)\n",
    "plt.title(\"Viajes por tipo de vehículo\")\n",
    "plt.show()"
   ]
  },
  {
   "cell_type": "markdown",
   "id": "b0fe192e-004a-461c-a67e-67349fe31187",
   "metadata": {},
   "source": [
    "#### Ingresos"
   ]
  },
  {
   "cell_type": "code",
   "execution_count": 51,
   "id": "cfbea857-5e12-405e-b907-4d67f0695bb6",
   "metadata": {},
   "outputs": [
    {
     "data": {
      "image/png": "[encoded data removed]",
      "text/plain": [
       "<Figure size 1800x800 with 1 Axes>"
      ]
     },
     "metadata": {},
     "output_type": "display_data"
    }
   ],
   "source": [
    "vehicle_revenue = df.groupby('Vehicle Type')['Booking Value'].sum().reset_index()\n",
    "vehicle_revenue['Booking Value'] = vehicle_revenue['Booking Value'].astype(int)\n",
    "ax = sns.barplot(\n",
    "    vehicle_revenue,\n",
    "    x = 'Vehicle Type',\n",
    "    y = 'Booking Value'\n",
    ")\n",
    "ax.set_ylabel(\"Booking revenue (in millions)\")\n",
    "plt.title(\"Ingresos por tipo de vehículo\")\n",
    "plt.show()"
   ]
  },
  {
   "cell_type": "code",
   "execution_count": 52,
   "id": "589ffa12-fb47-4d6f-8583-72a3ee1e19d6",
   "metadata": {},
   "outputs": [
    {
     "data": {
      "image/png": "[encoded data removed]",
      "text/plain": [
       "<Figure size 1800x800 with 1 Axes>"
      ]
     },
     "metadata": {},
     "output_type": "display_data"
    }
   ],
   "source": [
    "y = df['Payment Method'].value_counts()\n",
    "labels = ['UPI','Cash','Uber Wallet','Credit Card','Debit Card']\n",
    "plt.pie(\n",
    "    y,\n",
    "    labels = labels,\n",
    "    autopct='%1.1f%%'\n",
    ")\n",
    "plt.title(\"Distribución de métodos de pago\")\n",
    "plt.show()"
   ]
  },
  {
   "cell_type": "markdown",
   "id": "7064240a-4e63-4d54-b901-f89909aa392e",
   "metadata": {},
   "source": [
    "#### Cancelaciones"
   ]
  },
  {
   "cell_type": "code",
   "execution_count": 53,
   "id": "5dd0b1f9-ab3b-442a-8609-16c6bbd86ae0",
   "metadata": {},
   "outputs": [
    {
     "data": {
      "image/png": "[encoded data removed]",
      "text/plain": [
       "<Figure size 1800x800 with 1 Axes>"
      ]
     },
     "metadata": {},
     "output_type": "display_data"
    }
   ],
   "source": [
    "y = df['Reason for cancelling by Customer'].value_counts()\n",
    "labels = ['Wrong Address','Change of plans','Driver is not moving towards pickup location','Driver asked to cancel','AC is not working']\n",
    "plt.pie(\n",
    "    y,\n",
    "    labels = labels,\n",
    "    autopct='%1.1f%%'\n",
    ")\n",
    "plt.title(\"Cancelaciones clientes\")\n",
    "plt.show()"
   ]
  },
  {
   "cell_type": "code",
   "execution_count": 54,
   "id": "dc7c4dc1-ab9c-4ea6-8974-3c7a1728230d",
   "metadata": {},
   "outputs": [
    {
     "data": {
      "image/png": "[encoded data removed]",
      "text/plain": [
       "<Figure size 1800x800 with 1 Axes>"
      ]
     },
     "metadata": {},
     "output_type": "display_data"
    }
   ],
   "source": [
    "y = df['Driver Cancellation Reason'].value_counts()\n",
    "labels = ['Customer related issue','The customer was coughing/sick','Personal & Car related issues','More than permitted people in there']\n",
    "plt.pie(\n",
    "    y,\n",
    "    labels = labels,\n",
    "    autopct='%1.1f%%'\n",
    ")\n",
    "plt.title(\"Cancelaciones conductores\")\n",
    "plt.show()"
   ]
  },
  {
   "cell_type": "code",
   "execution_count": 55,
   "id": "4780f82b-44e2-4d40-9f40-838c63a244b4",
   "metadata": {},
   "outputs": [
    {
     "data": {
      "text/html": [
       "<div>\n",
       "<style scoped>\n",
       "    .dataframe tbody tr th:only-of-type {\n",
       "        vertical-align: middle;\n",
       "    }\n",
       "\n",
       "    .dataframe tbody tr th {\n",
       "        vertical-align: top;\n",
       "    }\n",
       "\n",
       "    .dataframe thead th {\n",
       "        text-align: right;\n",
       "    }\n",
       "</style>\n",
       "<table border=\"1\" class=\"dataframe\">\n",
       "  <thead>\n",
       "    <tr style=\"text-align: right;\">\n",
       "      <th></th>\n",
       "      <th>Date</th>\n",
       "      <th>Time</th>\n",
       "      <th>Booking ID</th>\n",
       "      <th>Booking Status</th>\n",
       "      <th>Customer ID</th>\n",
       "      <th>Vehicle Type</th>\n",
       "      <th>Pickup Location</th>\n",
       "      <th>Drop Location</th>\n",
       "      <th>Avg VTAT</th>\n",
       "      <th>Avg CTAT</th>\n",
       "      <th>...</th>\n",
       "      <th>Incomplete Rides</th>\n",
       "      <th>Incomplete Rides Reason</th>\n",
       "      <th>Booking Value</th>\n",
       "      <th>Ride Distance</th>\n",
       "      <th>Driver Ratings</th>\n",
       "      <th>Customer Rating</th>\n",
       "      <th>Payment Method</th>\n",
       "      <th>TripID</th>\n",
       "      <th>weekday</th>\n",
       "      <th>month</th>\n",
       "    </tr>\n",
       "  </thead>\n",
       "  <tbody>\n",
       "    <tr>\n",
       "      <th>0</th>\n",
       "      <td>2024-03-23</td>\n",
       "      <td>12:29:38</td>\n",
       "      <td>\"CNR5884300\"</td>\n",
       "      <td>No Driver Found</td>\n",
       "      <td>\"CID1982111\"</td>\n",
       "      <td>eBike</td>\n",
       "      <td>Palam Vihar</td>\n",
       "      <td>Jhilmil</td>\n",
       "      <td>NaN</td>\n",
       "      <td>NaN</td>\n",
       "      <td>...</td>\n",
       "      <td>NaN</td>\n",
       "      <td>NaN</td>\n",
       "      <td>NaN</td>\n",
       "      <td>NaN</td>\n",
       "      <td>NaN</td>\n",
       "      <td>NaN</td>\n",
       "      <td>NaN</td>\n",
       "      <td>0</td>\n",
       "      <td>Saturday</td>\n",
       "      <td>March</td>\n",
       "    </tr>\n",
       "    <tr>\n",
       "      <th>1</th>\n",
       "      <td>2024-11-29</td>\n",
       "      <td>18:01:39</td>\n",
       "      <td>\"CNR1326809\"</td>\n",
       "      <td>Incomplete</td>\n",
       "      <td>\"CID4604802\"</td>\n",
       "      <td>Go Sedan</td>\n",
       "      <td>Shastri Nagar</td>\n",
       "      <td>Gurgaon Sector 56</td>\n",
       "      <td>4.9</td>\n",
       "      <td>14.0</td>\n",
       "      <td>...</td>\n",
       "      <td>1.0</td>\n",
       "      <td>Vehicle Breakdown</td>\n",
       "      <td>237.0</td>\n",
       "      <td>5.73</td>\n",
       "      <td>NaN</td>\n",
       "      <td>NaN</td>\n",
       "      <td>UPI</td>\n",
       "      <td>1</td>\n",
       "      <td>Friday</td>\n",
       "      <td>November</td>\n",
       "    </tr>\n",
       "    <tr>\n",
       "      <th>2</th>\n",
       "      <td>2024-08-23</td>\n",
       "      <td>08:56:10</td>\n",
       "      <td>\"CNR8494506\"</td>\n",
       "      <td>Completed</td>\n",
       "      <td>\"CID9202816\"</td>\n",
       "      <td>Auto</td>\n",
       "      <td>Khandsa</td>\n",
       "      <td>Malviya Nagar</td>\n",
       "      <td>13.4</td>\n",
       "      <td>25.8</td>\n",
       "      <td>...</td>\n",
       "      <td>NaN</td>\n",
       "      <td>NaN</td>\n",
       "      <td>627.0</td>\n",
       "      <td>13.58</td>\n",
       "      <td>4.9</td>\n",
       "      <td>4.9</td>\n",
       "      <td>Debit Card</td>\n",
       "      <td>2</td>\n",
       "      <td>Friday</td>\n",
       "      <td>August</td>\n",
       "    </tr>\n",
       "    <tr>\n",
       "      <th>3</th>\n",
       "      <td>2024-10-21</td>\n",
       "      <td>17:17:25</td>\n",
       "      <td>\"CNR8906825\"</td>\n",
       "      <td>Completed</td>\n",
       "      <td>\"CID2610914\"</td>\n",
       "      <td>Premier Sedan</td>\n",
       "      <td>Central Secretariat</td>\n",
       "      <td>Inderlok</td>\n",
       "      <td>13.1</td>\n",
       "      <td>28.5</td>\n",
       "      <td>...</td>\n",
       "      <td>NaN</td>\n",
       "      <td>NaN</td>\n",
       "      <td>416.0</td>\n",
       "      <td>34.02</td>\n",
       "      <td>4.6</td>\n",
       "      <td>5.0</td>\n",
       "      <td>UPI</td>\n",
       "      <td>3</td>\n",
       "      <td>Monday</td>\n",
       "      <td>October</td>\n",
       "    </tr>\n",
       "    <tr>\n",
       "      <th>4</th>\n",
       "      <td>2024-09-16</td>\n",
       "      <td>22:08:00</td>\n",
       "      <td>\"CNR1950162\"</td>\n",
       "      <td>Completed</td>\n",
       "      <td>\"CID9933542\"</td>\n",
       "      <td>Bike</td>\n",
       "      <td>Ghitorni Village</td>\n",
       "      <td>Khan Market</td>\n",
       "      <td>5.3</td>\n",
       "      <td>19.6</td>\n",
       "      <td>...</td>\n",
       "      <td>NaN</td>\n",
       "      <td>NaN</td>\n",
       "      <td>737.0</td>\n",
       "      <td>48.21</td>\n",
       "      <td>4.1</td>\n",
       "      <td>4.3</td>\n",
       "      <td>UPI</td>\n",
       "      <td>4</td>\n",
       "      <td>Monday</td>\n",
       "      <td>September</td>\n",
       "    </tr>\n",
       "    <tr>\n",
       "      <th>...</th>\n",
       "      <td>...</td>\n",
       "      <td>...</td>\n",
       "      <td>...</td>\n",
       "      <td>...</td>\n",
       "      <td>...</td>\n",
       "      <td>...</td>\n",
       "      <td>...</td>\n",
       "      <td>...</td>\n",
       "      <td>...</td>\n",
       "      <td>...</td>\n",
       "      <td>...</td>\n",
       "      <td>...</td>\n",
       "      <td>...</td>\n",
       "      <td>...</td>\n",
       "      <td>...</td>\n",
       "      <td>...</td>\n",
       "      <td>...</td>\n",
       "      <td>...</td>\n",
       "      <td>...</td>\n",
       "      <td>...</td>\n",
       "      <td>...</td>\n",
       "    </tr>\n",
       "    <tr>\n",
       "      <th>149995</th>\n",
       "      <td>2024-11-11</td>\n",
       "      <td>19:34:01</td>\n",
       "      <td>\"CNR6500631\"</td>\n",
       "      <td>Completed</td>\n",
       "      <td>\"CID4337371\"</td>\n",
       "      <td>Go Mini</td>\n",
       "      <td>MG Road</td>\n",
       "      <td>Ghitorni</td>\n",
       "      <td>10.2</td>\n",
       "      <td>44.4</td>\n",
       "      <td>...</td>\n",
       "      <td>NaN</td>\n",
       "      <td>NaN</td>\n",
       "      <td>475.0</td>\n",
       "      <td>40.08</td>\n",
       "      <td>3.7</td>\n",
       "      <td>4.1</td>\n",
       "      <td>Uber Wallet</td>\n",
       "      <td>149995</td>\n",
       "      <td>Monday</td>\n",
       "      <td>November</td>\n",
       "    </tr>\n",
       "    <tr>\n",
       "      <th>149996</th>\n",
       "      <td>2024-11-24</td>\n",
       "      <td>15:55:09</td>\n",
       "      <td>\"CNR2468611\"</td>\n",
       "      <td>Completed</td>\n",
       "      <td>\"CID2325623\"</td>\n",
       "      <td>Go Mini</td>\n",
       "      <td>Golf Course Road</td>\n",
       "      <td>Akshardham</td>\n",
       "      <td>5.1</td>\n",
       "      <td>30.8</td>\n",
       "      <td>...</td>\n",
       "      <td>NaN</td>\n",
       "      <td>NaN</td>\n",
       "      <td>1093.0</td>\n",
       "      <td>21.31</td>\n",
       "      <td>4.8</td>\n",
       "      <td>5.0</td>\n",
       "      <td>UPI</td>\n",
       "      <td>149996</td>\n",
       "      <td>Sunday</td>\n",
       "      <td>November</td>\n",
       "    </tr>\n",
       "    <tr>\n",
       "      <th>149997</th>\n",
       "      <td>2024-09-18</td>\n",
       "      <td>10:55:15</td>\n",
       "      <td>\"CNR6358306\"</td>\n",
       "      <td>Completed</td>\n",
       "      <td>\"CID9925486\"</td>\n",
       "      <td>Go Sedan</td>\n",
       "      <td>Satguru Ram Singh Marg</td>\n",
       "      <td>Jor Bagh</td>\n",
       "      <td>2.7</td>\n",
       "      <td>23.4</td>\n",
       "      <td>...</td>\n",
       "      <td>NaN</td>\n",
       "      <td>NaN</td>\n",
       "      <td>852.0</td>\n",
       "      <td>15.93</td>\n",
       "      <td>3.9</td>\n",
       "      <td>4.4</td>\n",
       "      <td>Cash</td>\n",
       "      <td>149997</td>\n",
       "      <td>Wednesday</td>\n",
       "      <td>September</td>\n",
       "    </tr>\n",
       "    <tr>\n",
       "      <th>149998</th>\n",
       "      <td>2024-10-05</td>\n",
       "      <td>07:53:34</td>\n",
       "      <td>\"CNR3030099\"</td>\n",
       "      <td>Completed</td>\n",
       "      <td>\"CID9415487\"</td>\n",
       "      <td>Auto</td>\n",
       "      <td>Ghaziabad</td>\n",
       "      <td>Saidulajab</td>\n",
       "      <td>6.9</td>\n",
       "      <td>39.6</td>\n",
       "      <td>...</td>\n",
       "      <td>NaN</td>\n",
       "      <td>NaN</td>\n",
       "      <td>333.0</td>\n",
       "      <td>45.54</td>\n",
       "      <td>4.1</td>\n",
       "      <td>3.7</td>\n",
       "      <td>UPI</td>\n",
       "      <td>149998</td>\n",
       "      <td>Saturday</td>\n",
       "      <td>October</td>\n",
       "    </tr>\n",
       "    <tr>\n",
       "      <th>149999</th>\n",
       "      <td>2024-03-10</td>\n",
       "      <td>15:38:03</td>\n",
       "      <td>\"CNR3447390\"</td>\n",
       "      <td>Completed</td>\n",
       "      <td>\"CID4108667\"</td>\n",
       "      <td>Premier Sedan</td>\n",
       "      <td>Ashok Park Main</td>\n",
       "      <td>Gurgaon Sector 29</td>\n",
       "      <td>3.5</td>\n",
       "      <td>33.7</td>\n",
       "      <td>...</td>\n",
       "      <td>NaN</td>\n",
       "      <td>NaN</td>\n",
       "      <td>806.0</td>\n",
       "      <td>21.19</td>\n",
       "      <td>4.6</td>\n",
       "      <td>4.9</td>\n",
       "      <td>Credit Card</td>\n",
       "      <td>149999</td>\n",
       "      <td>Sunday</td>\n",
       "      <td>March</td>\n",
       "    </tr>\n",
       "  </tbody>\n",
       "</table>\n",
       "<p>150000 rows × 24 columns</p>\n",
       "</div>"
      ],
      "text/plain": [
       "             Date      Time    Booking ID   Booking Status   Customer ID  \\\n",
       "0      2024-03-23  12:29:38  \"CNR5884300\"  No Driver Found  \"CID1982111\"   \n",
       "1      2024-11-29  18:01:39  \"CNR1326809\"       Incomplete  \"CID4604802\"   \n",
       "2      2024-08-23  08:56:10  \"CNR8494506\"        Completed  \"CID9202816\"   \n",
       "3      2024-10-21  17:17:25  \"CNR8906825\"        Completed  \"CID2610914\"   \n",
       "4      2024-09-16  22:08:00  \"CNR1950162\"        Completed  \"CID9933542\"   \n",
       "...           ...       ...           ...              ...           ...   \n",
       "149995 2024-11-11  19:34:01  \"CNR6500631\"        Completed  \"CID4337371\"   \n",
       "149996 2024-11-24  15:55:09  \"CNR2468611\"        Completed  \"CID2325623\"   \n",
       "149997 2024-09-18  10:55:15  \"CNR6358306\"        Completed  \"CID9925486\"   \n",
       "149998 2024-10-05  07:53:34  \"CNR3030099\"        Completed  \"CID9415487\"   \n",
       "149999 2024-03-10  15:38:03  \"CNR3447390\"        Completed  \"CID4108667\"   \n",
       "\n",
       "         Vehicle Type         Pickup Location      Drop Location  Avg VTAT  \\\n",
       "0               eBike             Palam Vihar            Jhilmil       NaN   \n",
       "1            Go Sedan           Shastri Nagar  Gurgaon Sector 56       4.9   \n",
       "2                Auto                 Khandsa      Malviya Nagar      13.4   \n",
       "3       Premier Sedan     Central Secretariat           Inderlok      13.1   \n",
       "4                Bike        Ghitorni Village        Khan Market       5.3   \n",
       "...               ...                     ...                ...       ...   \n",
       "149995        Go Mini                 MG Road           Ghitorni      10.2   \n",
       "149996        Go Mini        Golf Course Road         Akshardham       5.1   \n",
       "149997       Go Sedan  Satguru Ram Singh Marg           Jor Bagh       2.7   \n",
       "149998           Auto               Ghaziabad         Saidulajab       6.9   \n",
       "149999  Premier Sedan         Ashok Park Main  Gurgaon Sector 29       3.5   \n",
       "\n",
       "        Avg CTAT  ...  Incomplete Rides Incomplete Rides Reason  \\\n",
       "0            NaN  ...               NaN                     NaN   \n",
       "1           14.0  ...               1.0       Vehicle Breakdown   \n",
       "2           25.8  ...               NaN                     NaN   \n",
       "3           28.5  ...               NaN                     NaN   \n",
       "4           19.6  ...               NaN                     NaN   \n",
       "...          ...  ...               ...                     ...   \n",
       "149995      44.4  ...               NaN                     NaN   \n",
       "149996      30.8  ...               NaN                     NaN   \n",
       "149997      23.4  ...               NaN                     NaN   \n",
       "149998      39.6  ...               NaN                     NaN   \n",
       "149999      33.7  ...               NaN                     NaN   \n",
       "\n",
       "        Booking Value Ride Distance  Driver Ratings Customer Rating  \\\n",
       "0                 NaN           NaN             NaN             NaN   \n",
       "1               237.0          5.73             NaN             NaN   \n",
       "2               627.0         13.58             4.9             4.9   \n",
       "3               416.0         34.02             4.6             5.0   \n",
       "4               737.0         48.21             4.1             4.3   \n",
       "...               ...           ...             ...             ...   \n",
       "149995          475.0         40.08             3.7             4.1   \n",
       "149996         1093.0         21.31             4.8             5.0   \n",
       "149997          852.0         15.93             3.9             4.4   \n",
       "149998          333.0         45.54             4.1             3.7   \n",
       "149999          806.0         21.19             4.6             4.9   \n",
       "\n",
       "        Payment Method  TripID    weekday      month  \n",
       "0                  NaN       0   Saturday      March  \n",
       "1                  UPI       1     Friday   November  \n",
       "2           Debit Card       2     Friday     August  \n",
       "3                  UPI       3     Monday    October  \n",
       "4                  UPI       4     Monday  September  \n",
       "...                ...     ...        ...        ...  \n",
       "149995     Uber Wallet  149995     Monday   November  \n",
       "149996             UPI  149996     Sunday   November  \n",
       "149997            Cash  149997  Wednesday  September  \n",
       "149998             UPI  149998   Saturday    October  \n",
       "149999     Credit Card  149999     Sunday      March  \n",
       "\n",
       "[150000 rows x 24 columns]"
      ]
     },
     "execution_count": 55,
     "metadata": {},
     "output_type": "execute_result"
    }
   ],
   "source": [
    "df"
   ]
  },
  {
   "cell_type": "markdown",
   "id": "c4bafa8a-2a34-4544-a770-113ba5184900",
   "metadata": {},
   "source": [
    "##### Creamos un excel con el que vamos a generar la base de datos"
   ]
  },
  {
   "cell_type": "code",
   "execution_count": 57,
   "id": "2bc73dee-8477-47e4-aafa-f2c29a7ce893",
   "metadata": {},
   "outputs": [],
   "source": [
    "df.to_csv(\"C:/Users/garci/Desktop/Data analytics/Analisis/Uber/postgresql.csv\",index=False)"
   ]
  },
  {
   "cell_type": "code",
   "execution_count": null,
   "id": "0a9e1845-84cf-49f7-b4c0-8f749e3552ae",
   "metadata": {},
   "outputs": [],
   "source": []
  }
 ],
 "metadata": {
  "kernelspec": {
   "display_name": "Python 3 (ipykernel)",
   "language": "python",
   "name": "python3"
  },
  "language_info": {
   "codemirror_mode": {
    "name": "ipython",
    "version": 3
   },
   "file_extension": ".py",
   "mimetype": "text/x-python",
   "name": "python",
   "nbconvert_exporter": "python",
   "pygments_lexer": "ipython3",
   "version": "3.12.6"
  }
 },
 "nbformat": 4,
 "nbformat_minor": 5
}
